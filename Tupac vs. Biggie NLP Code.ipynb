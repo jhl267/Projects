{
 "cells": [
  {
   "cell_type": "markdown",
   "metadata": {
    "heading_collapsed": true
   },
   "source": [
    "# Tupac Albums"
   ]
  },
  {
   "cell_type": "code",
   "execution_count": 1,
   "metadata": {
    "ExecuteTime": {
     "end_time": "2019-05-09T18:36:16.470529Z",
     "start_time": "2019-05-09T18:36:10.976437Z"
    },
    "hidden": true
   },
   "outputs": [],
   "source": [
    "import nltk\n",
    "import numpy as np\n",
    "import pandas as pd \n",
    "import matplotlib as mpl\n",
    "import matplotlib.pyplot as plt\n",
    "import seaborn as sns\n",
    "import re\n",
    "from sklearn.feature_extraction.text import CountVectorizer"
   ]
  },
  {
   "cell_type": "code",
   "execution_count": 2,
   "metadata": {
    "ExecuteTime": {
     "end_time": "2019-05-09T18:36:16.528919Z",
     "start_time": "2019-05-09T18:36:16.498626Z"
    },
    "hidden": true
   },
   "outputs": [],
   "source": [
    "df1 = pd.read_csv('/Users/johnlee/gitfoldernew/projectfiles/2pac_data.csv')\n"
   ]
  },
  {
   "cell_type": "code",
   "execution_count": 3,
   "metadata": {
    "ExecuteTime": {
     "end_time": "2019-05-09T18:36:16.634790Z",
     "start_time": "2019-05-09T18:36:16.567785Z"
    },
    "hidden": true
   },
   "outputs": [],
   "source": [
    "df2 = pd.read_csv('/Users/johnlee/gitfoldernew/projectfiles/2pac_data2.csv')\n",
    "df3 = pd.read_csv('/Users/johnlee/gitfoldernew/projectfiles/2pac_data3.csv')\n",
    "df4 = pd.read_csv('/Users/johnlee/gitfoldernew/projectfiles/2pac_data4.csv')\n",
    "df5 = pd.read_csv('/Users/johnlee/gitfoldernew/projectfiles/2pac_data5.csv')\n",
    "df6 = pd.read_csv('/Users/johnlee/gitfoldernew/projectfiles/2pac_data6.csv')\n",
    "df7 = pd.read_csv('/Users/johnlee/gitfoldernew/projectfiles/2pac_data7.csv')\n",
    "df8 = pd.read_csv('/Users/johnlee/gitfoldernew/projectfiles/2pac_data8.csv')\n",
    "df9 = pd.read_csv('/Users/johnlee/gitfoldernew/projectfiles/2pac_data9.csv')\n",
    "df10 = pd.read_csv('/Users/johnlee/gitfoldernew/projectfiles/2pac_data10.csv')\n"
   ]
  },
  {
   "cell_type": "code",
   "execution_count": 4,
   "metadata": {
    "ExecuteTime": {
     "end_time": "2019-05-09T18:36:16.772391Z",
     "start_time": "2019-05-09T18:36:16.753642Z"
    },
    "hidden": true
   },
   "outputs": [],
   "source": [
    "df_tupac_raw = pd.concat([df1,df2,df3,df4,df5,df6,df7,df8,df9,df10]) \n"
   ]
  },
  {
   "cell_type": "code",
   "execution_count": null,
   "metadata": {
    "hidden": true
   },
   "outputs": [],
   "source": []
  },
  {
   "cell_type": "code",
   "execution_count": 5,
   "metadata": {
    "ExecuteTime": {
     "end_time": "2019-05-09T18:36:17.012681Z",
     "start_time": "2019-05-09T18:36:16.962238Z"
    },
    "hidden": true
   },
   "outputs": [],
   "source": [
    "#Turning file to CSV to make EDAs on Tableau\n",
    "df_tupac_raw.to_csv('df_tupac_raw.csv')"
   ]
  },
  {
   "cell_type": "code",
   "execution_count": 6,
   "metadata": {
    "ExecuteTime": {
     "end_time": "2019-05-09T18:36:17.146460Z",
     "start_time": "2019-05-09T18:36:17.137656Z"
    },
    "hidden": true
   },
   "outputs": [],
   "source": [
    "df_tupac_raw['posthumous'] = np.where(df_tupac_raw['year'] >= 1997, 'yes', 'no')\n"
   ]
  },
  {
   "cell_type": "markdown",
   "metadata": {},
   "source": [
    "# Biggie Albums"
   ]
  },
  {
   "cell_type": "code",
   "execution_count": 8,
   "metadata": {
    "ExecuteTime": {
     "end_time": "2019-05-24T16:48:06.226941Z",
     "start_time": "2019-05-24T16:48:05.816085Z"
    }
   },
   "outputs": [],
   "source": [
    "dff1 = pd.read_csv('/Users/johnlee/gitfoldernew/projectfiles/biggie_data1.csv')\n",
    "dff2 = pd.read_csv('/Users/johnlee/gitfoldernew/projectfiles/biggie_data2.csv')\n",
    "dff3 = pd.read_csv('/Users/johnlee/gitfoldernew/projectfiles/biggie_data3.csv')\n",
    "dff4 = pd.read_csv('/Users/johnlee/gitfoldernew/projectfiles/biggie_data4.csv')\n",
    "dff5 = pd.read_csv('/Users/johnlee/gitfoldernew/projectfiles/biggie_data5.csv')\n"
   ]
  },
  {
   "cell_type": "code",
   "execution_count": 9,
   "metadata": {
    "ExecuteTime": {
     "end_time": "2019-05-24T16:48:06.838893Z",
     "start_time": "2019-05-24T16:48:06.826673Z"
    }
   },
   "outputs": [],
   "source": [
    "df_biggie_raw = pd.concat([dff1, dff2, dff3, dff4, dff5])"
   ]
  },
  {
   "cell_type": "code",
   "execution_count": 10,
   "metadata": {
    "ExecuteTime": {
     "end_time": "2019-05-24T16:48:07.236784Z",
     "start_time": "2019-05-24T16:48:07.205571Z"
    }
   },
   "outputs": [],
   "source": [
    "#Turning file to CSV to make EDAs on Tableau\n",
    "df_biggie_raw.to_csv('df_biggie_raw.csv')"
   ]
  },
  {
   "cell_type": "code",
   "execution_count": 11,
   "metadata": {
    "ExecuteTime": {
     "end_time": "2019-05-24T16:48:07.686145Z",
     "start_time": "2019-05-24T16:48:07.672761Z"
    }
   },
   "outputs": [],
   "source": [
    "df_biggie_raw['posthumous'] = np.where(df_biggie_raw['year'] >= 1998, 'yes', 'no')\n"
   ]
  },
  {
   "cell_type": "code",
   "execution_count": 12,
   "metadata": {
    "ExecuteTime": {
     "end_time": "2019-05-24T16:48:08.095419Z",
     "start_time": "2019-05-24T16:48:08.055130Z"
    }
   },
   "outputs": [
    {
     "data": {
      "text/html": [
       "<div>\n",
       "<style scoped>\n",
       "    .dataframe tbody tr th:only-of-type {\n",
       "        vertical-align: middle;\n",
       "    }\n",
       "\n",
       "    .dataframe tbody tr th {\n",
       "        vertical-align: top;\n",
       "    }\n",
       "\n",
       "    .dataframe thead th {\n",
       "        text-align: right;\n",
       "    }\n",
       "</style>\n",
       "<table border=\"1\" class=\"dataframe\">\n",
       "  <thead>\n",
       "    <tr style=\"text-align: right;\">\n",
       "      <th></th>\n",
       "      <th>album</th>\n",
       "      <th>year</th>\n",
       "      <th>lyrics</th>\n",
       "      <th>track</th>\n",
       "      <th>artist</th>\n",
       "    </tr>\n",
       "  </thead>\n",
       "  <tbody>\n",
       "    <tr>\n",
       "      <th>0</th>\n",
       "      <td>Ready to Die</td>\n",
       "      <td>1994</td>\n",
       "      <td>[Part 1: Puff Daddy]\\nPush\\nC'mon Shorty stay ...</td>\n",
       "      <td>Intro</td>\n",
       "      <td>Biggie</td>\n",
       "    </tr>\n",
       "    <tr>\n",
       "      <th>1</th>\n",
       "      <td>Ready to Die</td>\n",
       "      <td>1994</td>\n",
       "      <td>[Chorus]\\nBack in the day\\nThings done changed...</td>\n",
       "      <td>Things Done Changed</td>\n",
       "      <td>Biggie</td>\n",
       "    </tr>\n",
       "    <tr>\n",
       "      <th>2</th>\n",
       "      <td>Ready to Die</td>\n",
       "      <td>1994</td>\n",
       "      <td>[Intro: Notorious B.I.G.]\\nYeah, mothafuckas b...</td>\n",
       "      <td>Gimme the Loot</td>\n",
       "      <td>Biggie</td>\n",
       "    </tr>\n",
       "    <tr>\n",
       "      <th>3</th>\n",
       "      <td>Ready to Die</td>\n",
       "      <td>1994</td>\n",
       "      <td>[Produced by Easy Mo Bee]\\n\\n[Intro]\\nDamn, is...</td>\n",
       "      <td>Machine Gun Funk</td>\n",
       "      <td>Biggie</td>\n",
       "    </tr>\n",
       "    <tr>\n",
       "      <th>4</th>\n",
       "      <td>Ready to Die</td>\n",
       "      <td>1994</td>\n",
       "      <td>[Produced by Easy Mo Bee]\\n\\n[Notorious B.I.G....</td>\n",
       "      <td>Warning</td>\n",
       "      <td>Biggie</td>\n",
       "    </tr>\n",
       "  </tbody>\n",
       "</table>\n",
       "</div>"
      ],
      "text/plain": [
       "          album  year                                             lyrics  \\\n",
       "0  Ready to Die  1994  [Part 1: Puff Daddy]\\nPush\\nC'mon Shorty stay ...   \n",
       "1  Ready to Die  1994  [Chorus]\\nBack in the day\\nThings done changed...   \n",
       "2  Ready to Die  1994  [Intro: Notorious B.I.G.]\\nYeah, mothafuckas b...   \n",
       "3  Ready to Die  1994  [Produced by Easy Mo Bee]\\n\\n[Intro]\\nDamn, is...   \n",
       "4  Ready to Die  1994  [Produced by Easy Mo Bee]\\n\\n[Notorious B.I.G....   \n",
       "\n",
       "                 track  artist  \n",
       "0                Intro  Biggie  \n",
       "1  Things Done Changed  Biggie  \n",
       "2       Gimme the Loot  Biggie  \n",
       "3     Machine Gun Funk  Biggie  \n",
       "4              Warning  Biggie  "
      ]
     },
     "execution_count": 12,
     "metadata": {},
     "output_type": "execute_result"
    }
   ],
   "source": [
    "dff1.head()"
   ]
  },
  {
   "cell_type": "markdown",
   "metadata": {},
   "source": [
    "# Reset Index"
   ]
  },
  {
   "cell_type": "code",
   "execution_count": 47,
   "metadata": {},
   "outputs": [],
   "source": [
    "# df_all = pd.concat([df_tupac,df_biggie])"
   ]
  },
  {
   "cell_type": "code",
   "execution_count": 48,
   "metadata": {},
   "outputs": [],
   "source": [
    "df_tupac_raw.reset_index(inplace=True)\n",
    "df_biggie_raw.reset_index(inplace=True)\n"
   ]
  },
  {
   "cell_type": "code",
   "execution_count": 49,
   "metadata": {},
   "outputs": [],
   "source": [
    "#Pickling Dataframe\n",
    "import pickle\n",
    "\n",
    "pickle.dump(df_tupac_raw, open( \"df_tupac_raw\", \"wb\" ) )\n",
    "pickle.dump(df_biggie_raw, open( \"df_biggie_raw\", \"wb\" ) )"
   ]
  },
  {
   "cell_type": "code",
   "execution_count": 50,
   "metadata": {},
   "outputs": [],
   "source": [
    "#Using this as an example in my powerpoint to show that this 'track' would skew\n",
    "\n",
    "sample = df_biggie_raw['lyrics'][46]\n",
    "sample = [re.sub('\\n',' ', sample)]\n"
   ]
  },
  {
   "cell_type": "code",
   "execution_count": 51,
   "metadata": {},
   "outputs": [
    {
     "data": {
      "text/plain": [
       "[\"(Puffy background) What about ten years from now?  (Biggie) Ten years from now, where do I want to be? I wanna be...just livin' man, just Living comfortably with my niggas man, in a pool and shit, smoking plenty indo You know I'm saying? I got my wife, just lounging with my wife you know i'm Saying? With my daughter, her daughter, you know just laid back, just chillin You know i'm saying? Living all my niggas is living where I think I be? Ten Years I don't think I will see it for real dogg for real man, that shit ain't Promised man I don't think my luck is that good, I hope it is but if it ain't, so be it, I'm Ready (your dead wrong)  (B.I.G.chant) (Repeat til fade out) The weak or the strong You got it going on Your dead wrong....\"]"
      ]
     },
     "execution_count": 51,
     "metadata": {},
     "output_type": "execute_result"
    }
   ],
   "source": [
    "sample"
   ]
  },
  {
   "cell_type": "code",
   "execution_count": 52,
   "metadata": {},
   "outputs": [
    {
     "data": {
      "text/plain": [
       "index                                                         2\n",
       "album                                            All Eyez on Me\n",
       "year                                                       1996\n",
       "lyrics        [Intro: 2Pac & Nate Dogg]\\nHey Nate, you know ...\n",
       "track                                                Skandalouz\n",
       "artist                                                     2pac\n",
       "posthumous                                                   no\n",
       "Name: 46, dtype: object"
      ]
     },
     "execution_count": 52,
     "metadata": {},
     "output_type": "execute_result"
    }
   ],
   "source": [
    "df_tupac_raw.loc[46]"
   ]
  },
  {
   "cell_type": "markdown",
   "metadata": {},
   "source": [
    "# Tokenization"
   ]
  },
  {
   "cell_type": "code",
   "execution_count": 55,
   "metadata": {},
   "outputs": [],
   "source": [
    "from nltk.tokenize import word_tokenize"
   ]
  },
  {
   "cell_type": "code",
   "execution_count": 56,
   "metadata": {},
   "outputs": [
    {
     "data": {
      "text/plain": [
       "index          int64\n",
       "album         object\n",
       "year           int64\n",
       "lyrics        object\n",
       "track         object\n",
       "artist        object\n",
       "posthumous    object\n",
       "dtype: object"
      ]
     },
     "execution_count": 56,
     "metadata": {},
     "output_type": "execute_result"
    }
   ],
   "source": [
    "df_tupac_raw.dtypes"
   ]
  },
  {
   "cell_type": "markdown",
   "metadata": {},
   "source": [
    "# Dropping Interludes & Tracks without lyrics"
   ]
  },
  {
   "cell_type": "code",
   "execution_count": 68,
   "metadata": {},
   "outputs": [],
   "source": [
    "# df_biggie = df_biggie.drop(df_biggie.index[0])\n",
    "df_biggie = df_biggie_raw.drop(index=[0, 7, 19, 20, 21, 29, 45, 46, 60, 63, \n",
    "                                      64, 70, 80, 84, 88, 91, 95, 97, 99, 101, 107])\n"
   ]
  },
  {
   "cell_type": "code",
   "execution_count": 69,
   "metadata": {},
   "outputs": [],
   "source": [
    "#Resetting Index\n",
    "df_biggie.reset_index(inplace=True)"
   ]
  },
  {
   "cell_type": "code",
   "execution_count": 70,
   "metadata": {},
   "outputs": [],
   "source": [
    "df_tupac = df_tupac_raw.drop(index=[14, 16, 29, 84, 108, 125, 139, 165])\n"
   ]
  },
  {
   "cell_type": "code",
   "execution_count": 71,
   "metadata": {},
   "outputs": [],
   "source": [
    "#Resetting Index\n",
    "\n",
    "df_tupac.reset_index(inplace=True)"
   ]
  },
  {
   "cell_type": "code",
   "execution_count": 72,
   "metadata": {},
   "outputs": [
    {
     "data": {
      "text/plain": [
       "111"
      ]
     },
     "execution_count": 72,
     "metadata": {},
     "output_type": "execute_result"
    }
   ],
   "source": [
    "#How many total songs on Biggie Albums\n",
    "\n",
    "total_biggie_songs = len(df_biggie_raw['track'])\n",
    "total_biggie_songs\n"
   ]
  },
  {
   "cell_type": "code",
   "execution_count": 73,
   "metadata": {},
   "outputs": [
    {
     "data": {
      "text/plain": [
       "90"
      ]
     },
     "execution_count": 73,
     "metadata": {},
     "output_type": "execute_result"
    }
   ],
   "source": [
    "#How many songs are usable?\n",
    "\n",
    "num_biggie_songs = len(df_biggie['track'])\n",
    "num_biggie_songs"
   ]
  },
  {
   "cell_type": "code",
   "execution_count": 140,
   "metadata": {},
   "outputs": [
    {
     "data": {
      "text/plain": [
       "198"
      ]
     },
     "execution_count": 140,
     "metadata": {},
     "output_type": "execute_result"
    }
   ],
   "source": [
    "#How many total songs on Biggie Albums\n",
    "\n",
    "total_tupac_songs = len(df_tupac_raw['track'])\n",
    "total_tupac_songs"
   ]
  },
  {
   "cell_type": "code",
   "execution_count": 142,
   "metadata": {},
   "outputs": [
    {
     "data": {
      "text/plain": [
       "190"
      ]
     },
     "execution_count": 142,
     "metadata": {},
     "output_type": "execute_result"
    }
   ],
   "source": [
    "#How many songs are usable?\n",
    "\n",
    "num_tupac_songs = len(df_tupac['track'])\n",
    "num_tupac_songs"
   ]
  },
  {
   "cell_type": "code",
   "execution_count": 143,
   "metadata": {},
   "outputs": [
    {
     "name": "stdout",
     "output_type": "stream",
     "text": [
      "['Biggie', 'Tupac']\n"
     ]
    }
   ],
   "source": []
  },
  {
   "cell_type": "code",
   "execution_count": 144,
   "metadata": {},
   "outputs": [],
   "source": [
    "rappers = ['Biggie', 'Tupac']\n",
    "total_songs = np.array([total_biggie_songs , total_tupac_songs])"
   ]
  },
  {
   "cell_type": "code",
   "execution_count": 220,
   "metadata": {},
   "outputs": [
    {
     "name": "stderr",
     "output_type": "stream",
     "text": [
      "No handles with labels found to put in legend.\n",
      "/Users/johnlee/anaconda3/lib/python3.7/site-packages/matplotlib/legend.py:497: UserWarning: Unrecognized location \"\". Falling back on \"best\"; valid locations are\n",
      "\tbest\n",
      "\tupper right\n",
      "\tupper left\n",
      "\tlower left\n",
      "\tlower right\n",
      "\tright\n",
      "\tcenter left\n",
      "\tcenter right\n",
      "\tlower center\n",
      "\tupper center\n",
      "\tcenter\n",
      "\n",
      "  % (loc, '\\n\\t'.join(self.codes)))\n"
     ]
    },
    {
     "data": {
      "image/png": "[encoded data removed]",
      "text/plain": [
       "<Figure size 432x288 with 1 Axes>"
      ]
     },
     "metadata": {
      "needs_background": "light"
     },
     "output_type": "display_data"
    }
   ],
   "source": [
    "plt.bar(rappers, total_songs, color = 'blue', width = 0.8)\n",
    "plt.xticks(rappers, weight = 'bold')\n",
    "plt.yticks(weight = 'bold')\n",
    "plt.ylabel(\"\", weight = 'bold')\n",
    "plt.xlabel(\"\")\n",
    "plt.legend(loc=\"\")\n",
    "plt.title(\"Total Tracks\", fontsize = 20,weight='bold',color='Red')\n",
    "\n",
    "plt.show()"
   ]
  },
  {
   "cell_type": "code",
   "execution_count": 221,
   "metadata": {},
   "outputs": [
    {
     "name": "stderr",
     "output_type": "stream",
     "text": [
      "/Users/johnlee/anaconda3/lib/python3.7/site-packages/matplotlib/legend.py:497: UserWarning: Unrecognized location \"\". Falling back on \"best\"; valid locations are\n",
      "\tbest\n",
      "\tupper right\n",
      "\tupper left\n",
      "\tlower left\n",
      "\tlower right\n",
      "\tright\n",
      "\tcenter left\n",
      "\tcenter right\n",
      "\tlower center\n",
      "\tupper center\n",
      "\tcenter\n",
      "\n",
      "  % (loc, '\\n\\t'.join(self.codes)))\n"
     ]
    },
    {
     "data": {
      "image/png": "[encoded data removed]",
      "text/plain": [
       "<Figure size 432x288 with 1 Axes>"
      ]
     },
     "metadata": {
      "needs_background": "light"
     },
     "output_type": "display_data"
    }
   ],
   "source": [
    "rappers = ['Biggie', 'Tupac']\n",
    "total_songs = np.array([total_biggie_songs , total_tupac_songs])\n",
    "usable_songs = np.array([num_biggie_songs , num_tupac_songs])\n",
    "\n",
    "plt.bar(rappers, total_songs, width=0.8, label='Interludes', color='blue')\n",
    "plt.bar(rappers, usable_songs, width=0.8, label='Songs with lyrics', color='yellow')\n",
    "\n",
    "plt.xticks(rappers, weight = 'bold')\n",
    "plt.yticks(weight = 'bold')\n",
    "plt.ylabel(\"\", weight = 'bold')\n",
    "plt.xlabel(\"\")\n",
    "plt.legend(loc=\"\")\n",
    "plt.title(\"Total Tracks\", fontsize = 20,weight='bold',color='Red')\n",
    "\n",
    "plt.show()"
   ]
  },
  {
   "cell_type": "code",
   "execution_count": null,
   "metadata": {},
   "outputs": [],
   "source": []
  },
  {
   "cell_type": "code",
   "execution_count": 236,
   "metadata": {},
   "outputs": [],
   "source": []
  },
  {
   "cell_type": "code",
   "execution_count": 235,
   "metadata": {},
   "outputs": [
    {
     "data": {
      "text/html": [
       "<div>\n",
       "<style scoped>\n",
       "    .dataframe tbody tr th:only-of-type {\n",
       "        vertical-align: middle;\n",
       "    }\n",
       "\n",
       "    .dataframe tbody tr th {\n",
       "        vertical-align: top;\n",
       "    }\n",
       "\n",
       "    .dataframe thead th {\n",
       "        text-align: right;\n",
       "    }\n",
       "</style>\n",
       "<table border=\"1\" class=\"dataframe\">\n",
       "  <thead>\n",
       "    <tr style=\"text-align: right;\">\n",
       "      <th></th>\n",
       "      <th>level_0</th>\n",
       "      <th>index</th>\n",
       "      <th>album</th>\n",
       "      <th>year</th>\n",
       "      <th>lyrics</th>\n",
       "      <th>track</th>\n",
       "      <th>artist</th>\n",
       "      <th>posthumous</th>\n",
       "      <th>new_lyrics</th>\n",
       "      <th>length_lyrics</th>\n",
       "    </tr>\n",
       "  </thead>\n",
       "  <tbody>\n",
       "    <tr>\n",
       "      <th>0</th>\n",
       "      <td>0</td>\n",
       "      <td>0</td>\n",
       "      <td>2Pacalypse Now</td>\n",
       "      <td>1991</td>\n",
       "      <td>[Intro: 2Pac + (Ed O.G.) + Ice Cube]\\n(Hard li...</td>\n",
       "      <td>Young Black Male</td>\n",
       "      <td>2pac</td>\n",
       "      <td>no</td>\n",
       "      <td>(hard like an erection) young black male (hard...</td>\n",
       "      <td>2265</td>\n",
       "    </tr>\n",
       "    <tr>\n",
       "      <th>1</th>\n",
       "      <td>1</td>\n",
       "      <td>1</td>\n",
       "      <td>2Pacalypse Now</td>\n",
       "      <td>1991</td>\n",
       "      <td>[Verse 1: 2Pac]\\nYou know they got me trapped ...</td>\n",
       "      <td>Trapped</td>\n",
       "      <td>2pac</td>\n",
       "      <td>no</td>\n",
       "      <td>you know they got me trapped in this prison of...</td>\n",
       "      <td>3872</td>\n",
       "    </tr>\n",
       "    <tr>\n",
       "      <th>2</th>\n",
       "      <td>2</td>\n",
       "      <td>2</td>\n",
       "      <td>2Pacalypse Now</td>\n",
       "      <td>1991</td>\n",
       "      <td>[Intro: 2Pac &amp; 2Pac as \"Soulja\"]\\nAll you want...</td>\n",
       "      <td>Soulja's Story</td>\n",
       "      <td>2pac</td>\n",
       "      <td>no</td>\n",
       "      <td>all you wanted to be a soulja a soulja all you...</td>\n",
       "      <td>4466</td>\n",
       "    </tr>\n",
       "    <tr>\n",
       "      <th>3</th>\n",
       "      <td>3</td>\n",
       "      <td>3</td>\n",
       "      <td>2Pacalypse Now</td>\n",
       "      <td>1991</td>\n",
       "      <td>[Intro: Skit]\\n— What's up?\\n— Yo, this scene:...</td>\n",
       "      <td>I Don't Give A Fuck</td>\n",
       "      <td>2pac</td>\n",
       "      <td>no</td>\n",
       "      <td>— whats up? — yo this scene: rollers tried to ...</td>\n",
       "      <td>4302</td>\n",
       "    </tr>\n",
       "    <tr>\n",
       "      <th>4</th>\n",
       "      <td>4</td>\n",
       "      <td>4</td>\n",
       "      <td>2Pacalypse Now</td>\n",
       "      <td>1991</td>\n",
       "      <td>[Verse 1]\\nThey claim that I'm violent\\nJust c...</td>\n",
       "      <td>Violent</td>\n",
       "      <td>2pac</td>\n",
       "      <td>no</td>\n",
       "      <td>they claim that im violent just cause i refuse...</td>\n",
       "      <td>3845</td>\n",
       "    </tr>\n",
       "  </tbody>\n",
       "</table>\n",
       "</div>"
      ],
      "text/plain": [
       "   level_0  index           album  year  \\\n",
       "0        0      0  2Pacalypse Now  1991   \n",
       "1        1      1  2Pacalypse Now  1991   \n",
       "2        2      2  2Pacalypse Now  1991   \n",
       "3        3      3  2Pacalypse Now  1991   \n",
       "4        4      4  2Pacalypse Now  1991   \n",
       "\n",
       "                                              lyrics                track  \\\n",
       "0  [Intro: 2Pac + (Ed O.G.) + Ice Cube]\\n(Hard li...     Young Black Male   \n",
       "1  [Verse 1: 2Pac]\\nYou know they got me trapped ...              Trapped   \n",
       "2  [Intro: 2Pac & 2Pac as \"Soulja\"]\\nAll you want...       Soulja's Story   \n",
       "3  [Intro: Skit]\\n— What's up?\\n— Yo, this scene:...  I Don't Give A Fuck   \n",
       "4  [Verse 1]\\nThey claim that I'm violent\\nJust c...              Violent   \n",
       "\n",
       "  artist posthumous                                         new_lyrics  \\\n",
       "0   2pac         no  (hard like an erection) young black male (hard...   \n",
       "1   2pac         no  you know they got me trapped in this prison of...   \n",
       "2   2pac         no  all you wanted to be a soulja a soulja all you...   \n",
       "3   2pac         no  — whats up? — yo this scene: rollers tried to ...   \n",
       "4   2pac         no  they claim that im violent just cause i refuse...   \n",
       "\n",
       "   length_lyrics  \n",
       "0           2265  \n",
       "1           3872  \n",
       "2           4466  \n",
       "3           4302  \n",
       "4           3845  "
      ]
     },
     "execution_count": 235,
     "metadata": {},
     "output_type": "execute_result"
    }
   ],
   "source": []
  },
  {
   "cell_type": "markdown",
   "metadata": {},
   "source": [
    "# EDA"
   ]
  },
  {
   "cell_type": "code",
   "execution_count": 76,
   "metadata": {},
   "outputs": [
    {
     "data": {
      "text/plain": [
       "Text(0.5, 0, '')"
      ]
     },
     "execution_count": 76,
     "metadata": {},
     "output_type": "execute_result"
    },
    {
     "data": {
      "image/png": "[encoded data removed]",
      "text/plain": [
       "<Figure size 1800x360 with 1 Axes>"
      ]
     },
     "metadata": {
      "needs_background": "light"
     },
     "output_type": "display_data"
    }
   ],
   "source": [
    "fig=plt.figure(figsize=(25, 5))\n",
    "\n",
    "plt.plot(df_biggie['track'], df_biggie['lyrics'].apply(lambda x: len(x)))\n",
    "\n",
    "plt.title(\"Biggie Lyrics Over Time\")\n",
    "plt.suptitle(\"\")\n",
    "plt.ylabel('')\n",
    "plt.xticks(rotation=90)\n",
    "plt.xlabel('')\n",
    "\n"
   ]
  },
  {
   "cell_type": "code",
   "execution_count": 77,
   "metadata": {},
   "outputs": [
    {
     "data": {
      "text/plain": [
       "Text(0.5, 0, '')"
      ]
     },
     "execution_count": 77,
     "metadata": {},
     "output_type": "execute_result"
    },
    {
     "data": {
      "image/png": "[encoded data removed]",
      "text/plain": [
       "<Figure size 1800x360 with 1 Axes>"
      ]
     },
     "metadata": {
      "needs_background": "light"
     },
     "output_type": "display_data"
    }
   ],
   "source": [
    "fig=plt.figure(figsize=(25,5))\n",
    "\n",
    "plt.plot(df_tupac['track'], df_tupac['lyrics'].apply(lambda x: len(x)))\n",
    "\n",
    "plt.title(\"Tupac Lyrics Over Time\")\n",
    "plt.suptitle(\"\")\n",
    "plt.ylabel('')\n",
    "plt.xticks(rotation=90)\n",
    "plt.xlabel('')"
   ]
  },
  {
   "cell_type": "code",
   "execution_count": null,
   "metadata": {},
   "outputs": [],
   "source": []
  },
  {
   "cell_type": "code",
   "execution_count": null,
   "metadata": {},
   "outputs": [],
   "source": []
  },
  {
   "cell_type": "code",
   "execution_count": null,
   "metadata": {},
   "outputs": [],
   "source": []
  },
  {
   "cell_type": "code",
   "execution_count": null,
   "metadata": {},
   "outputs": [],
   "source": []
  },
  {
   "cell_type": "code",
   "execution_count": null,
   "metadata": {},
   "outputs": [],
   "source": []
  },
  {
   "cell_type": "code",
   "execution_count": 78,
   "metadata": {},
   "outputs": [],
   "source": [
    "df_tupac['new_lyrics'] = df_tupac['lyrics'].str.replace(r'\\[[^[]*\\]', '')  #this gets rid of []] and text inside it\n",
    "df_biggie['new_lyrics'] = df_biggie['lyrics'].str.replace(r'\\[[^[]*\\]', '')\n",
    "\n",
    "\n",
    "# df_biggie['new_lyrics'] = df_biggie['new_lyrics'].str.replace(r'\\*[^)]*\\*', '')\n",
    "\n",
    "# (r'\\[[^[]*\\]', '')    brackets\n",
    "# (r'\\([^)]*\\)', '')    paranthesis\n",
    "# (r'\\*[^*]*\\)', '')    \n",
    "#    \\[  [^[] * \\]\n",
    "\n",
    "# df_all['new_lyrics'] = df_all['lyrics'].str.replace(r'\\([^)]*\\)', '')   #this gets rid of (paranthese) and text inside it\n",
    "# df_all['new_lyrics'] = df_all['lyrics'].str.replace(r'\\[.+\\]', '')\n",
    "# df_all['new_lyrics'] = df_all['lyrics'].str.replace(r'/\\[([^\\]]*)\\]/', '')"
   ]
  },
  {
   "cell_type": "code",
   "execution_count": 79,
   "metadata": {},
   "outputs": [],
   "source": [
    "# df_biggie['new_lyrics'] = df_biggie['new_lyrics'].str.replace(r'\\*[^*]*\\)', '')  "
   ]
  },
  {
   "cell_type": "code",
   "execution_count": 80,
   "metadata": {},
   "outputs": [
    {
     "data": {
      "text/plain": [
       "'[Intro: 2Pac]\\nNigga, fuck that gin and juice, I\\'m fuckin\\' with Hennessy\\nJust pour me a glass of that dark shit\\nThat\\'s right\\n\\n[Chorus: 2Pac & Sleepy Brown]\\nThey wanna knows my role model, it\\'s in a brown bottle\\nOoooh, ba-ba, ba-ba-dahhhhh\\nHennessy (Hennessy) hahaha, yeah\\nThey wanna knows my role model, it\\'s in a brown bottle\\nOoooh, ba-ba, ba-ba-dahhhhh\\nHennessy (Hennessy)\\n\\n[Verse One: 2Pac]\\nNow I was born in the gutter facin\\' life or death\\nI was a thug ever since my mama gave me breath\\nThese motherfuckers wanna see me die\\nSo who am I to try to warn \\'em?\\nI fuckin\\' bomb \\'em, them niggas fry\\nHey, remember me? Down that Hennessy\\nThe nigga you don\\'t wanna see, let me proceed\\nMy definition of some thug shit, y\\'all don\\'t hear me\\nNow that it\\'s poppin\\', ain\\'t no love, bitch\\nI maintain in the game, in the gutter\\'s where I still kick it\\nI\\'m tryna hustle up a meal ticket\\nI\\'m still wicked in my ways, a hustler \\'til my dyin days\\nAin\\'t nuttin\\' wrong with gettin\\' paid, so nigga blaze\\n\\'Cause we some motherfuckin\\' fools\\nWalkin\\' through the streets wearin\\' jewels, breakin\\' niggas fakin\\' moves\\nEven the cops can\\'t stop us, my enemies flip\\nWhen they see me drink a fifth of that Hennessy\\n\\n[Chorus: 2Pac & Sleepy Brown]\\nThey wanna knows my role model, it\\'s in a brown bottle\\nOoooh, ba-ba, ba-ba-dahhhhh\\nHennessy (Hennessy), haha, that\\'s right\\nThey wanna knows my role model, it\\'s in a brown bottle\\nOoooh, ba-ba, ba-ba-dahhhhh\\nHennessy (Hennessy)\\n\\n[Verse Two: Edi Amin]\\nYeah\\nUp late nights, under the city lights\\nThe Henn\\' got me feelin\\' right, I\\'m tryin\\' to keep from swervin\\'\\nShe\\'s so fine and she love Henny too\\nAfter a couple of shots, she said, \"I could do what I wanna do\"\\n(That\\'s right) We ain\\'t sippin\\' champagne (nah) we off the Henn-Rock\\nAlcoholics back at the liquor sto\\' cause we can\\'t stop (Can\\'t stop)\\nAnd won\\'t stop (we won\\'t stop) all night long\\n\\'Til the break of dawn, gettin\\' it on, Hennessy\\n\\n[Bridge: Sleepy Brown]\\nOoooh, lady watchin\\' (Lady watchin) as I\\'m glidin\\' by (glidin\\' by)\\nAnd the place is jumpin\\', that I can\\'t deny (No, no, no)\\nOoh, I can\\'t wait to go in, throw my glass in the sky (Glass in the sky)\\nFor the people partyin\\', \\'til the mornin\\' light\\n\\n[Chorus: 2Pac & Sleepy Brown]\\nThey wanna knows my role model, it\\'s in a brown bottle\\nOoooh, ba-ba, ba-ba-dahhhhh\\nHennessy (Hennessy)\\nThey wanna knows my role model, it\\'s in a brown bottle\\nOoooh, ba-ba, ba-ba-dahhhhh\\nHennessy (Hennessy)\\n(Hahaha, y\\'all niggas can\\'t fuck with this ol\\' thug shit)\\n\\nThey wanna knows my role model, it\\'s in a brown bottle\\nOoooh, ba-ba, ba-ba-dahhhhh\\nHennessy (Hennessy), hahaha\\nThey wanna knows my role model, it\\'s in a brown bottle\\nOoooh, ba-ba, ba-ba-dahhhhh\\nHennessy (Hennessy)\\n\\n[Outro: Sleepy Brown]\\nKeep on sippin\\', and sippin\\', and sippin\\'\\nBa-ba, ba-ba-dahhhhh, Hennessy'"
      ]
     },
     "execution_count": 80,
     "metadata": {},
     "output_type": "execute_result"
    }
   ],
   "source": [
    "df_tupac['lyrics'][172]  #originally"
   ]
  },
  {
   "cell_type": "code",
   "execution_count": 81,
   "metadata": {},
   "outputs": [
    {
     "data": {
      "text/plain": [
       "\"\\n(Hard like an erection)\\nYoung black male\\n(Hard like an erection)\\nAin't shit to fool with\\n(Hard like an erection)\\nYoung black male\\n(Hard like an erection)\\nAin't shit to fool with\\nYes, niggas! Yes, niggas! Yes, niggas!\\nGo, nigga, go!\\n(Hard like an erection)\\nYoung black male\\n(Hard like an erection)\\nAin't shit to fool with\\n(Hard like an erection)\\nYoung black male\\n(Hard like an erection)\\nAin't shit to fool with\\n\\n\\nYoung black male\\nI try to effect by kicking the facts\\nAnd stacking much mail\\nI'm packing a gat 'cause guys wanna jack\\nAnd fuck going to jail\\n'Cause I ain't a crook, despite how I look\\nI don't sell yayo\\nThey judging a brother like covers on books\\nFollow me into a flow\\nI'm sure you know, which way to go\\nI'm hitting 'em out of the doors\\nSo slip on the slope, let's skip on the flow\\nI'm fucking the sluts and hoes\\nThe bigger the butts the tighter the clothes\\nThe gimminy jimminy grows\\nThen whaddaya know, it's off with some clothes\\nRowd when the crowd says ho\\nThat let's me know, they know I can flow\\nLove when they come to my shows\\nI get up and go with skins before\\nWhen I'm collecting my dough\\nI never respect, the one that I back\\nThe quicker the nigga can rap\\nThe bigger the check\\nNow watch how they sweat\\nWhat kind of style is that?\\nThe style of a mack, and ready to jack\\nI rendered up piles of black\\nThe wacker the pack, the fatter the smack\\nI hate it when real niggas bust\\nThey hate when I cuss, they threaten to bust\\nI had enough of the fuss\\nI bust what I bust and cuss when I must\\nThey gave me a charge for sales\\nFor selling the tales... of young black males\\n\\n\\nYes, nigga, N-I-G-G-A, niggas\\nAy, nigga, you can't handle that shit!\\nPass that man!\\nHit that shit, that's the shit!\\nIt smells like skunk, skunk smells like that nigga, momma\\nWe ain't nuthin' but some low down dirty niggas\\nKeep it real, nigga! Fuck you, nigga!\\nYou ain't giving me near a dime on this real motherfucker\\nFuck St. Ides, it's an Old E thing, baby\\nStrictly some of that Hennessy\\nCan I drink with you, fellas? Can I get it on it?\\nFuck you, capo. You ain't in, baby\\nI tell you what! You guys are not gonna be talking\\nAll that shit, when I come back, OK?\\nWe gonna say who the big mouth, when I come back\\nYoung black male!\""
      ]
     },
     "execution_count": 81,
     "metadata": {},
     "output_type": "execute_result"
    }
   ],
   "source": [
    "df_tupac['new_lyrics'][0]"
   ]
  },
  {
   "cell_type": "markdown",
   "metadata": {},
   "source": [
    "# Cleaning Lyrics, Removing Punctuations"
   ]
  },
  {
   "cell_type": "code",
   "execution_count": 82,
   "metadata": {},
   "outputs": [],
   "source": [
    "df_tupac['new_lyrics'] = [re.sub('\\n',' ', i) for i in df_tupac['new_lyrics']]\n",
    "df_biggie['new_lyrics'] = [re.sub('\\n',' ', i) for i in df_biggie['new_lyrics']]\n"
   ]
  },
  {
   "cell_type": "code",
   "execution_count": 83,
   "metadata": {},
   "outputs": [],
   "source": [
    "df_tupac['new_lyrics'] = [re.sub('-',' ', i) for i in df_tupac['new_lyrics']]\n",
    "df_tupac['new_lyrics'] = [re.sub(',','', i) for i in df_tupac['new_lyrics']]\n",
    "df_tupac['new_lyrics'] = [re.sub('!','', i) for i in df_tupac['new_lyrics']]\n",
    "df_tupac['new_lyrics'] = [re.sub(\"\\'\",'', i) for i in df_tupac['new_lyrics']]\n",
    "df_tupac['new_lyrics'] = [re.sub(\"   \",' ', i) for i in df_tupac['new_lyrics']]\n",
    "df_tupac['new_lyrics'] = [re.sub(\"  \",' ', i) for i in df_tupac['new_lyrics']]\n",
    "\n",
    "# df_all['lyrics'] = [re.sub('\\)','', i) for i in df_all['lyrics']]\n",
    "# df_all['lyrics'] = [re.sub(\"\\)\",'', i) for i in df_all['lyrics']]\n"
   ]
  },
  {
   "cell_type": "code",
   "execution_count": 84,
   "metadata": {},
   "outputs": [],
   "source": [
    "df_biggie['new_lyrics'] = [re.sub('-',' ', i) for i in df_biggie['new_lyrics']]\n",
    "df_biggie['new_lyrics'] = [re.sub(',','', i) for i in df_biggie['new_lyrics']]\n",
    "df_biggie['new_lyrics'] = [re.sub('!','', i) for i in df_biggie['new_lyrics']]\n",
    "df_biggie['new_lyrics'] = [re.sub(\"\\'\",'', i) for i in df_biggie['new_lyrics']]\n",
    "df_biggie['new_lyrics'] = [re.sub(\"   \",' ', i) for i in df_biggie['new_lyrics']]\n",
    "df_biggie['new_lyrics'] = [re.sub(\"  \",' ', i) for i in df_biggie['new_lyrics']]"
   ]
  },
  {
   "cell_type": "code",
   "execution_count": 85,
   "metadata": {},
   "outputs": [
    {
     "data": {
      "text/plain": [
       "level_0        int64\n",
       "index          int64\n",
       "album         object\n",
       "year           int64\n",
       "lyrics        object\n",
       "track         object\n",
       "artist        object\n",
       "posthumous    object\n",
       "new_lyrics    object\n",
       "dtype: object"
      ]
     },
     "execution_count": 85,
     "metadata": {},
     "output_type": "execute_result"
    }
   ],
   "source": [
    "df_tupac.dtypes"
   ]
  },
  {
   "cell_type": "code",
   "execution_count": null,
   "metadata": {},
   "outputs": [],
   "source": []
  },
  {
   "cell_type": "code",
   "execution_count": 86,
   "metadata": {},
   "outputs": [],
   "source": [
    "# df_tupac['lyrics'] = df_tupac['lyrics'].astype('|S500')"
   ]
  },
  {
   "cell_type": "markdown",
   "metadata": {},
   "source": [
    "#  Removing *.,\\/ (all symbols)"
   ]
  },
  {
   "cell_type": "code",
   "execution_count": 87,
   "metadata": {},
   "outputs": [],
   "source": [
    "\n",
    "\n",
    "punc_lower = lambda x: x.lower()\n",
    "strip = lambda x: x.strip()\n",
    "no_per = lambda x: x.replace('.', '')\n",
    "alphanumeric = lambda x: re.sub('\\w*\\d\\w*', '', x)\n",
    "# no_space = lambda x: re.sub('\\s','', x)\n",
    "\n",
    "\n",
    "df_tupac['new_lyrics'] = df_tupac.new_lyrics.map(punc_lower).map(no_per).map(strip).map(alphanumeric)"
   ]
  },
  {
   "cell_type": "code",
   "execution_count": 88,
   "metadata": {},
   "outputs": [],
   "source": [
    "punc_lower = lambda x: x.lower()\n",
    "strip = lambda x: x.strip()\n",
    "no_per = lambda x: x.replace('.', '')\n",
    "alphanumeric = lambda x: re.sub('\\w*\\d\\w*', '', x)\n",
    "# no_space = lambda x: re.sub('\\s','', x)\n",
    "\n",
    "\n",
    "df_biggie['new_lyrics'] = df_biggie.new_lyrics.map(punc_lower).map(no_per).map(strip).map(alphanumeric)"
   ]
  },
  {
   "cell_type": "code",
   "execution_count": 89,
   "metadata": {},
   "outputs": [],
   "source": [
    "# df_biggie['new_lyrics2'] = df_biggie['new_lyrics'].str.replace(r'\\*[^)]*\\*', '')"
   ]
  },
  {
   "cell_type": "code",
   "execution_count": null,
   "metadata": {},
   "outputs": [],
   "source": []
  },
  {
   "cell_type": "code",
   "execution_count": 90,
   "metadata": {},
   "outputs": [],
   "source": [
    "#Removing excess spaces\n",
    "df_tupac['new_lyrics'] = [re.sub(\"       \",' ', i) for i in df_tupac['new_lyrics']]\n",
    "df_biggie['new_lyrics'] = [re.sub(\"       \",' ', i) for i in df_biggie['new_lyrics']]"
   ]
  },
  {
   "cell_type": "code",
   "execution_count": 91,
   "metadata": {},
   "outputs": [
    {
     "data": {
      "text/plain": [
       "'back in the day things done changed on this side remember they used to thump but now they blast right back in the day things done changed on this side remember they used to thump but now they blast right back in the day things done changed on this side remember they used to thump but now they blast right back in the day things done changed on this side remember they used to thump but now they blast right remember back in the days when niggas had waves gazelle shades and corn braids pitching pennies honeys had the high top jellies shooting skelly motherfuckers was all friendly lounging at the barbecues drinking brews with the neighborhood crews hanging on the avenues turn your pages to  niggas is getting smoked g: believe me talk slick you get your neck slit quick cause real street niggas aint having that shit toting tecs for rep smoking blunts in the project hallways shooting dice all day wait for niggas to step up on some fighting shit we get hype and shit and start lighting shit so step away with your fist fight ways motherfucker this aint back in the days but you dont hear me though back in the day things done changed on this side remember they used to thump but now they blast right back in the day things done changed on this side remember they used to thump but now they blast right back in the day things done changed on this side remember they used to thump but now they blast right back in the day things done changed on this side remember they used to thump but now they blast right no more coco levio all it is to me is a mystery i hear you motherfuckers talk about it but i stay seeing bodies with the motherfucking chalk around it and im down with the shit too for the stupid motherfuckers want to try to use kung fu instead of a mac  he tried scrapping slugs in his back and thats what the fuck happens when you sleep on the street little motherfuckers with heat wanna leave a nigga six feet deep and we coming to the wake to make sure the crying and commotion aint a motherfucking fake back in the days our parents used to take care of us look at em now they even fuckin scared of us calling the city for help because they cant maintain damn shit done changed back in the day things done changed on this side remember they used to thump but now they blast right back in the day things done changed on this side remember they used to thump but now they blast right back in the day things done changed on this side remember they used to thump but now they blast right back in the day things done changed on this side remember they used to thump but now they blast right if i wasnt in the rap game id probably have a key knee deep in the crack game because the streets is a short stop either youre slinging crack rock or you got a wicked jump shot shit its hard being young from the slums eating  cent gums not knowing where your meals coming from and now the shits getting crazier and major kids younger than me they got the sky brand pagers going out of town blowing up six months later all the dead bodies showing up it make me wanna grab the  and the shotty but i gotta go identify the body damn what happened to the summertime cookouts every time i turn around a nigga getting took out shit my momma got cancer in her breast dont ask me why im motherfucking stressed things done changed back in the day things done changed on this side remember they used to thump but now they blast right back in the day things done changed on this side remember they used to thump but now they blast right back in the day things done changed on this side remember they used to thump but now they blast right back in the day things done changed on this side remember they used to thump but now they blast right'"
      ]
     },
     "execution_count": 91,
     "metadata": {},
     "output_type": "execute_result"
    }
   ],
   "source": [
    "df_biggie['new_lyrics'][0]"
   ]
  },
  {
   "cell_type": "code",
   "execution_count": null,
   "metadata": {},
   "outputs": [],
   "source": []
  },
  {
   "cell_type": "markdown",
   "metadata": {},
   "source": [
    "\\[  [^[] * \\]     #regex code that gets rid of [text] text inside brackets\n",
    "\\[.+\\]  \n",
    "  \n",
    "(r'\\*[]\\)  \n",
    "  \n",
    "\\( [^)] * \\ )"
   ]
  },
  {
   "cell_type": "markdown",
   "metadata": {},
   "source": [
    "# EDA FOR LENGTH OF LYRICS"
   ]
  },
  {
   "cell_type": "code",
   "execution_count": 237,
   "metadata": {},
   "outputs": [],
   "source": [
    "df_tupac['length_lyrics']  = df_tupac['new_lyrics'].str.len()\n",
    "df_biggie['length_lyrics']  = df_biggie['new_lyrics'].str.len()\n"
   ]
  },
  {
   "cell_type": "code",
   "execution_count": 279,
   "metadata": {},
   "outputs": [
    {
     "data": {
      "image/png": "[encoded data removed]",
      "text/plain": [
       "<Figure size 432x288 with 1 Axes>"
      ]
     },
     "metadata": {
      "needs_background": "light"
     },
     "output_type": "display_data"
    }
   ],
   "source": [
    "example=df_tupac.groupby('year')['length_lyrics'].mean()\n",
    "example2=df_biggie.groupby('year')['album','length_lyrics'].mean()\n",
    "\n",
    "\n",
    "plt.title('')\n",
    "plt.xlabel('', rotation = 90)\n",
    "plt.ylabel('')\n",
    "plt.xticks(rotation=90)\n",
    "\n",
    "plt.plot(example);"
   ]
  },
  {
   "cell_type": "code",
   "execution_count": 280,
   "metadata": {},
   "outputs": [
    {
     "data": {
      "image/png": "[encoded data removed]",
      "text/plain": [
       "<Figure size 432x288 with 1 Axes>"
      ]
     },
     "metadata": {
      "needs_background": "light"
     },
     "output_type": "display_data"
    }
   ],
   "source": [
    "example=df_biggie.groupby('year')['length_lyrics'].mean()\n",
    "\n",
    "\n",
    "plt.title('Biggie Average Lyrics by Song')\n",
    "plt.xlabel('', rotation = 90)\n",
    "plt.ylabel('')\n",
    "plt.xticks(rotation=90)\n",
    "\n",
    "plt.plot(example);"
   ]
  },
  {
   "cell_type": "code",
   "execution_count": null,
   "metadata": {},
   "outputs": [],
   "source": []
  },
  {
   "cell_type": "code",
   "execution_count": 92,
   "metadata": {},
   "outputs": [],
   "source": [
    "# word_tokenize(df_all['lyrics'])"
   ]
  },
  {
   "cell_type": "code",
   "execution_count": 93,
   "metadata": {},
   "outputs": [],
   "source": [
    "#Getting rid of text inside the () or []\n",
    "# regex = re.compile(\"[]\")\n",
    "# result = re.findall(regex, mystring)"
   ]
  },
  {
   "cell_type": "markdown",
   "metadata": {},
   "source": [
    "# Count Vectorization"
   ]
  },
  {
   "cell_type": "code",
   "execution_count": 94,
   "metadata": {},
   "outputs": [],
   "source": [
    "corpus_tupac = df_tupac.new_lyrics\n",
    "corpus_biggie = df_biggie.new_lyrics"
   ]
  },
  {
   "cell_type": "code",
   "execution_count": 95,
   "metadata": {},
   "outputs": [],
   "source": [
    "# from sklearn.model_selection import train_test_split\n",
    "# X_train, X_test, y_train, y_test = train_test_split(X, y, test_size=0.3, random_state=42)"
   ]
  },
  {
   "cell_type": "code",
   "execution_count": 243,
   "metadata": {},
   "outputs": [],
   "source": [
    "from nltk.corpus import stopwords\n",
    "stoplist = set(nltk.corpus.stopwords.words('english'))\n",
    "new_stopwords = ['im', 'got', 'like', 'ya', 'let', 'get', 'niggas', 'nigga']\n",
    "new_stopwords_list = stoplist.union(new_stopwords) "
   ]
  },
  {
   "cell_type": "markdown",
   "metadata": {},
   "source": [
    "## Tupac Count Vectorization "
   ]
  },
  {
   "cell_type": "code",
   "execution_count": 244,
   "metadata": {},
   "outputs": [],
   "source": [
    "\n",
    "from sklearn.feature_extraction.text import CountVectorizer\n",
    "\n",
    "cv = CountVectorizer(stop_words=new_stopwords_list)\n",
    "X=cv.fit_transform(corpus_tupac).toarray()\n",
    "df_tupac_count  = pd.DataFrame(X, columns=cv.get_feature_names(), index = df_tupac['track'])"
   ]
  },
  {
   "cell_type": "markdown",
   "metadata": {},
   "source": [
    "## Biggie Count Vectorization"
   ]
  },
  {
   "cell_type": "code",
   "execution_count": 245,
   "metadata": {},
   "outputs": [],
   "source": [
    "cv = CountVectorizer(stop_words=new_stopwords_list, max_df = 0.3)\n",
    "X=cv.fit_transform(corpus_biggie).toarray()\n",
    "df_biggie_count  = pd.DataFrame(X, columns=cv.get_feature_names(), index = df_biggie['track'])"
   ]
  },
  {
   "cell_type": "code",
   "execution_count": 246,
   "metadata": {},
   "outputs": [
    {
     "data": {
      "text/html": [
       "<div>\n",
       "<style scoped>\n",
       "    .dataframe tbody tr th:only-of-type {\n",
       "        vertical-align: middle;\n",
       "    }\n",
       "\n",
       "    .dataframe tbody tr th {\n",
       "        vertical-align: top;\n",
       "    }\n",
       "\n",
       "    .dataframe thead th {\n",
       "        text-align: right;\n",
       "    }\n",
       "</style>\n",
       "<table border=\"1\" class=\"dataframe\">\n",
       "  <thead>\n",
       "    <tr style=\"text-align: right;\">\n",
       "      <th></th>\n",
       "      <th>abandon</th>\n",
       "      <th>abandoned</th>\n",
       "      <th>able</th>\n",
       "      <th>aborted</th>\n",
       "      <th>abortions</th>\n",
       "      <th>absolutely</th>\n",
       "      <th>abu</th>\n",
       "      <th>abuse</th>\n",
       "      <th>abused</th>\n",
       "      <th>ac</th>\n",
       "      <th>...</th>\n",
       "      <th>zig</th>\n",
       "      <th>zigga</th>\n",
       "      <th>zines</th>\n",
       "      <th>zipped</th>\n",
       "      <th>zodiac</th>\n",
       "      <th>zone</th>\n",
       "      <th>zoo</th>\n",
       "      <th>zoot</th>\n",
       "      <th>zow</th>\n",
       "      <th>zulu</th>\n",
       "    </tr>\n",
       "    <tr>\n",
       "      <th>track</th>\n",
       "      <th></th>\n",
       "      <th></th>\n",
       "      <th></th>\n",
       "      <th></th>\n",
       "      <th></th>\n",
       "      <th></th>\n",
       "      <th></th>\n",
       "      <th></th>\n",
       "      <th></th>\n",
       "      <th></th>\n",
       "      <th></th>\n",
       "      <th></th>\n",
       "      <th></th>\n",
       "      <th></th>\n",
       "      <th></th>\n",
       "      <th></th>\n",
       "      <th></th>\n",
       "      <th></th>\n",
       "      <th></th>\n",
       "      <th></th>\n",
       "      <th></th>\n",
       "    </tr>\n",
       "  </thead>\n",
       "  <tbody>\n",
       "    <tr>\n",
       "      <th>Young Black Male</th>\n",
       "      <td>0</td>\n",
       "      <td>0</td>\n",
       "      <td>0</td>\n",
       "      <td>0</td>\n",
       "      <td>0</td>\n",
       "      <td>0</td>\n",
       "      <td>0</td>\n",
       "      <td>0</td>\n",
       "      <td>0</td>\n",
       "      <td>0</td>\n",
       "      <td>...</td>\n",
       "      <td>0</td>\n",
       "      <td>0</td>\n",
       "      <td>0</td>\n",
       "      <td>0</td>\n",
       "      <td>0</td>\n",
       "      <td>0</td>\n",
       "      <td>0</td>\n",
       "      <td>0</td>\n",
       "      <td>0</td>\n",
       "      <td>0</td>\n",
       "    </tr>\n",
       "    <tr>\n",
       "      <th>Trapped</th>\n",
       "      <td>0</td>\n",
       "      <td>0</td>\n",
       "      <td>0</td>\n",
       "      <td>0</td>\n",
       "      <td>0</td>\n",
       "      <td>0</td>\n",
       "      <td>0</td>\n",
       "      <td>0</td>\n",
       "      <td>0</td>\n",
       "      <td>0</td>\n",
       "      <td>...</td>\n",
       "      <td>0</td>\n",
       "      <td>0</td>\n",
       "      <td>0</td>\n",
       "      <td>0</td>\n",
       "      <td>0</td>\n",
       "      <td>0</td>\n",
       "      <td>0</td>\n",
       "      <td>0</td>\n",
       "      <td>0</td>\n",
       "      <td>0</td>\n",
       "    </tr>\n",
       "    <tr>\n",
       "      <th>Soulja's Story</th>\n",
       "      <td>0</td>\n",
       "      <td>0</td>\n",
       "      <td>0</td>\n",
       "      <td>0</td>\n",
       "      <td>0</td>\n",
       "      <td>0</td>\n",
       "      <td>0</td>\n",
       "      <td>0</td>\n",
       "      <td>0</td>\n",
       "      <td>0</td>\n",
       "      <td>...</td>\n",
       "      <td>0</td>\n",
       "      <td>0</td>\n",
       "      <td>0</td>\n",
       "      <td>0</td>\n",
       "      <td>0</td>\n",
       "      <td>0</td>\n",
       "      <td>0</td>\n",
       "      <td>0</td>\n",
       "      <td>0</td>\n",
       "      <td>0</td>\n",
       "    </tr>\n",
       "    <tr>\n",
       "      <th>I Don't Give A Fuck</th>\n",
       "      <td>0</td>\n",
       "      <td>0</td>\n",
       "      <td>0</td>\n",
       "      <td>0</td>\n",
       "      <td>0</td>\n",
       "      <td>0</td>\n",
       "      <td>0</td>\n",
       "      <td>0</td>\n",
       "      <td>0</td>\n",
       "      <td>0</td>\n",
       "      <td>...</td>\n",
       "      <td>0</td>\n",
       "      <td>0</td>\n",
       "      <td>0</td>\n",
       "      <td>0</td>\n",
       "      <td>0</td>\n",
       "      <td>0</td>\n",
       "      <td>0</td>\n",
       "      <td>0</td>\n",
       "      <td>0</td>\n",
       "      <td>0</td>\n",
       "    </tr>\n",
       "    <tr>\n",
       "      <th>Violent</th>\n",
       "      <td>0</td>\n",
       "      <td>0</td>\n",
       "      <td>0</td>\n",
       "      <td>0</td>\n",
       "      <td>0</td>\n",
       "      <td>0</td>\n",
       "      <td>0</td>\n",
       "      <td>0</td>\n",
       "      <td>0</td>\n",
       "      <td>0</td>\n",
       "      <td>...</td>\n",
       "      <td>0</td>\n",
       "      <td>0</td>\n",
       "      <td>0</td>\n",
       "      <td>0</td>\n",
       "      <td>0</td>\n",
       "      <td>0</td>\n",
       "      <td>0</td>\n",
       "      <td>0</td>\n",
       "      <td>0</td>\n",
       "      <td>0</td>\n",
       "    </tr>\n",
       "  </tbody>\n",
       "</table>\n",
       "<p>5 rows × 7233 columns</p>\n",
       "</div>"
      ],
      "text/plain": [
       "                     abandon  abandoned  able  aborted  abortions  absolutely  \\\n",
       "track                                                                           \n",
       "Young Black Male           0          0     0        0          0           0   \n",
       "Trapped                    0          0     0        0          0           0   \n",
       "Soulja's Story             0          0     0        0          0           0   \n",
       "I Don't Give A Fuck        0          0     0        0          0           0   \n",
       "Violent                    0          0     0        0          0           0   \n",
       "\n",
       "                     abu  abuse  abused  ac  ...  zig  zigga  zines  zipped  \\\n",
       "track                                        ...                              \n",
       "Young Black Male       0      0       0   0  ...    0      0      0       0   \n",
       "Trapped                0      0       0   0  ...    0      0      0       0   \n",
       "Soulja's Story         0      0       0   0  ...    0      0      0       0   \n",
       "I Don't Give A Fuck    0      0       0   0  ...    0      0      0       0   \n",
       "Violent                0      0       0   0  ...    0      0      0       0   \n",
       "\n",
       "                     zodiac  zone  zoo  zoot  zow  zulu  \n",
       "track                                                    \n",
       "Young Black Male          0     0    0     0    0     0  \n",
       "Trapped                   0     0    0     0    0     0  \n",
       "Soulja's Story            0     0    0     0    0     0  \n",
       "I Don't Give A Fuck       0     0    0     0    0     0  \n",
       "Violent                   0     0    0     0    0     0  \n",
       "\n",
       "[5 rows x 7233 columns]"
      ]
     },
     "execution_count": 246,
     "metadata": {},
     "output_type": "execute_result"
    }
   ],
   "source": [
    "df_tupac_count.head()\n"
   ]
  },
  {
   "cell_type": "code",
   "execution_count": null,
   "metadata": {},
   "outputs": [],
   "source": []
  },
  {
   "cell_type": "code",
   "execution_count": 247,
   "metadata": {},
   "outputs": [
    {
     "data": {
      "text/plain": [
       "(190, 7233)"
      ]
     },
     "execution_count": 247,
     "metadata": {},
     "output_type": "execute_result"
    }
   ],
   "source": [
    "df_tupac_count.shape"
   ]
  },
  {
   "cell_type": "code",
   "execution_count": 248,
   "metadata": {},
   "outputs": [
    {
     "data": {
      "text/plain": [
       "dont          770\n",
       "aint          757\n",
       "cause         693\n",
       "see           651\n",
       "know          599\n",
       "fuck          561\n",
       "thug          521\n",
       "life          498\n",
       "time          467\n",
       "shit          458\n",
       "go            374\n",
       "cant          372\n",
       "die           363\n",
       "em            351\n",
       "wanna         350\n",
       "one           344\n",
       "thats         339\n",
       "love          325\n",
       "never         319\n",
       "back          317\n",
       "baby          317\n",
       "make          313\n",
       "bitch         311\n",
       "man           304\n",
       "ass           280\n",
       "still         279\n",
       "way           275\n",
       "tell          269\n",
       "keep          266\n",
       "gettin        264\n",
       "             ... \n",
       "minell          1\n",
       "minded          1\n",
       "mimickin        1\n",
       "milla           1\n",
       "militant        1\n",
       "milita          1\n",
       "mil             1\n",
       "mighty          1\n",
       "mighta          1\n",
       "midwest         1\n",
       "midnight        1\n",
       "mics            1\n",
       "michelob        1\n",
       "michelle        1\n",
       "micheal         1\n",
       "miami           1\n",
       "meyeah          1\n",
       "methods         1\n",
       "meth            1\n",
       "mes             1\n",
       "mentally        1\n",
       "mentallity      1\n",
       "members         1\n",
       "melons          1\n",
       "melle           1\n",
       "mel             1\n",
       "mei             1\n",
       "meetings        1\n",
       "meetin          1\n",
       "abandon         1\n",
       "Length: 7233, dtype: int64"
      ]
     },
     "execution_count": 248,
     "metadata": {},
     "output_type": "execute_result"
    }
   ],
   "source": [
    "df_tupac_count.sum().sort_values(ascending = False)"
   ]
  },
  {
   "cell_type": "code",
   "execution_count": 249,
   "metadata": {},
   "outputs": [
    {
     "data": {
      "text/plain": [
       "motherfuckers    116\n",
       "bad              108\n",
       "going            100\n",
       "cmon              93\n",
       "nasty             87\n",
       "ill               87\n",
       "whatchu           86\n",
       "uhh               79\n",
       "beef              73\n",
       "fucking           73\n",
       "us                70\n",
       "lets              69\n",
       "another           68\n",
       "live              66\n",
       "gotta             66\n",
       "cali              66\n",
       "funk              66\n",
       "ride              65\n",
       "oh                63\n",
       "pray              61\n",
       "girl              60\n",
       "good              60\n",
       "ready             58\n",
       "dead              58\n",
       "bone              57\n",
       "boy               57\n",
       "grab              54\n",
       "show              52\n",
       "gonna             51\n",
       "whats             50\n",
       "                ... \n",
       "jim                1\n",
       "jiggas             1\n",
       "jus                1\n",
       "kaanah             1\n",
       "taisha             1\n",
       "kani               1\n",
       "killa              1\n",
       "tallahassee        1\n",
       "kidney             1\n",
       "talons             1\n",
       "kicker             1\n",
       "tammy              1\n",
       "kibbitz            1\n",
       "khan               1\n",
       "keyshia            1\n",
       "kettle             1\n",
       "kerosene           1\n",
       "tantalizing        1\n",
       "kenya              1\n",
       "kenfolk            1\n",
       "kelly              1\n",
       "kells              1\n",
       "keepin             1\n",
       "kawasaki           1\n",
       "karma              1\n",
       "karl               1\n",
       "karats             1\n",
       "karate             1\n",
       "karan              1\n",
       "zy                 1\n",
       "Length: 5630, dtype: int64"
      ]
     },
     "execution_count": 249,
     "metadata": {},
     "output_type": "execute_result"
    }
   ],
   "source": [
    "df_biggie_count.sum().sort_values(ascending = False)"
   ]
  },
  {
   "cell_type": "markdown",
   "metadata": {},
   "source": [
    "# TFIDF Vector"
   ]
  },
  {
   "cell_type": "markdown",
   "metadata": {},
   "source": [
    "## Tupac "
   ]
  },
  {
   "cell_type": "code",
   "execution_count": 250,
   "metadata": {},
   "outputs": [],
   "source": [
    "from sklearn.feature_extraction.text import TfidfVectorizer\n",
    "\n",
    "\n",
    "cv_tfidf_tupac = TfidfVectorizer(stop_words=new_stopwords_list)\n",
    "\n",
    "X_tfidf_tupac = cv_tfidf_tupac.fit_transform(corpus_tupac).toarray()\n",
    "\n",
    "df_tfidf_tupac = pd.DataFrame(X_tfidf_tupac, columns= cv_tfidf_tupac.get_feature_names(), index = df_tupac['track'])\n",
    "\n"
   ]
  },
  {
   "cell_type": "markdown",
   "metadata": {},
   "source": [
    "## Biggie"
   ]
  },
  {
   "cell_type": "code",
   "execution_count": 251,
   "metadata": {},
   "outputs": [],
   "source": [
    "cv_tfidf_biggie = TfidfVectorizer(stop_words=new_stopwords_list)\n",
    "\n",
    "X_tfidf_biggie = cv_tfidf_biggie.fit_transform(corpus_biggie).toarray()\n",
    "\n",
    "df_tfidf_biggie = pd.DataFrame(X_tfidf_biggie, columns= cv_tfidf_biggie.get_feature_names(), index = df_biggie['track'])\n"
   ]
  },
  {
   "cell_type": "code",
   "execution_count": 252,
   "metadata": {},
   "outputs": [
    {
     "data": {
      "text/html": [
       "<div>\n",
       "<style scoped>\n",
       "    .dataframe tbody tr th:only-of-type {\n",
       "        vertical-align: middle;\n",
       "    }\n",
       "\n",
       "    .dataframe tbody tr th {\n",
       "        vertical-align: top;\n",
       "    }\n",
       "\n",
       "    .dataframe thead th {\n",
       "        text-align: right;\n",
       "    }\n",
       "</style>\n",
       "<table border=\"1\" class=\"dataframe\">\n",
       "  <thead>\n",
       "    <tr style=\"text-align: right;\">\n",
       "      <th></th>\n",
       "      <th>abandon</th>\n",
       "      <th>abandoned</th>\n",
       "      <th>able</th>\n",
       "      <th>aborted</th>\n",
       "      <th>abortions</th>\n",
       "      <th>absolutely</th>\n",
       "      <th>abu</th>\n",
       "      <th>abuse</th>\n",
       "      <th>abused</th>\n",
       "      <th>ac</th>\n",
       "      <th>...</th>\n",
       "      <th>zig</th>\n",
       "      <th>zigga</th>\n",
       "      <th>zines</th>\n",
       "      <th>zipped</th>\n",
       "      <th>zodiac</th>\n",
       "      <th>zone</th>\n",
       "      <th>zoo</th>\n",
       "      <th>zoot</th>\n",
       "      <th>zow</th>\n",
       "      <th>zulu</th>\n",
       "    </tr>\n",
       "    <tr>\n",
       "      <th>track</th>\n",
       "      <th></th>\n",
       "      <th></th>\n",
       "      <th></th>\n",
       "      <th></th>\n",
       "      <th></th>\n",
       "      <th></th>\n",
       "      <th></th>\n",
       "      <th></th>\n",
       "      <th></th>\n",
       "      <th></th>\n",
       "      <th></th>\n",
       "      <th></th>\n",
       "      <th></th>\n",
       "      <th></th>\n",
       "      <th></th>\n",
       "      <th></th>\n",
       "      <th></th>\n",
       "      <th></th>\n",
       "      <th></th>\n",
       "      <th></th>\n",
       "      <th></th>\n",
       "    </tr>\n",
       "  </thead>\n",
       "  <tbody>\n",
       "    <tr>\n",
       "      <th>Young Black Male</th>\n",
       "      <td>0.0</td>\n",
       "      <td>0.0</td>\n",
       "      <td>0.0</td>\n",
       "      <td>0.0</td>\n",
       "      <td>0.0</td>\n",
       "      <td>0.0</td>\n",
       "      <td>0.0</td>\n",
       "      <td>0.0</td>\n",
       "      <td>0.0</td>\n",
       "      <td>0.0</td>\n",
       "      <td>...</td>\n",
       "      <td>0.0</td>\n",
       "      <td>0.0</td>\n",
       "      <td>0.0</td>\n",
       "      <td>0.0</td>\n",
       "      <td>0.0</td>\n",
       "      <td>0.0</td>\n",
       "      <td>0.0</td>\n",
       "      <td>0.0</td>\n",
       "      <td>0.0</td>\n",
       "      <td>0.0</td>\n",
       "    </tr>\n",
       "    <tr>\n",
       "      <th>Trapped</th>\n",
       "      <td>0.0</td>\n",
       "      <td>0.0</td>\n",
       "      <td>0.0</td>\n",
       "      <td>0.0</td>\n",
       "      <td>0.0</td>\n",
       "      <td>0.0</td>\n",
       "      <td>0.0</td>\n",
       "      <td>0.0</td>\n",
       "      <td>0.0</td>\n",
       "      <td>0.0</td>\n",
       "      <td>...</td>\n",
       "      <td>0.0</td>\n",
       "      <td>0.0</td>\n",
       "      <td>0.0</td>\n",
       "      <td>0.0</td>\n",
       "      <td>0.0</td>\n",
       "      <td>0.0</td>\n",
       "      <td>0.0</td>\n",
       "      <td>0.0</td>\n",
       "      <td>0.0</td>\n",
       "      <td>0.0</td>\n",
       "    </tr>\n",
       "    <tr>\n",
       "      <th>Soulja's Story</th>\n",
       "      <td>0.0</td>\n",
       "      <td>0.0</td>\n",
       "      <td>0.0</td>\n",
       "      <td>0.0</td>\n",
       "      <td>0.0</td>\n",
       "      <td>0.0</td>\n",
       "      <td>0.0</td>\n",
       "      <td>0.0</td>\n",
       "      <td>0.0</td>\n",
       "      <td>0.0</td>\n",
       "      <td>...</td>\n",
       "      <td>0.0</td>\n",
       "      <td>0.0</td>\n",
       "      <td>0.0</td>\n",
       "      <td>0.0</td>\n",
       "      <td>0.0</td>\n",
       "      <td>0.0</td>\n",
       "      <td>0.0</td>\n",
       "      <td>0.0</td>\n",
       "      <td>0.0</td>\n",
       "      <td>0.0</td>\n",
       "    </tr>\n",
       "    <tr>\n",
       "      <th>I Don't Give A Fuck</th>\n",
       "      <td>0.0</td>\n",
       "      <td>0.0</td>\n",
       "      <td>0.0</td>\n",
       "      <td>0.0</td>\n",
       "      <td>0.0</td>\n",
       "      <td>0.0</td>\n",
       "      <td>0.0</td>\n",
       "      <td>0.0</td>\n",
       "      <td>0.0</td>\n",
       "      <td>0.0</td>\n",
       "      <td>...</td>\n",
       "      <td>0.0</td>\n",
       "      <td>0.0</td>\n",
       "      <td>0.0</td>\n",
       "      <td>0.0</td>\n",
       "      <td>0.0</td>\n",
       "      <td>0.0</td>\n",
       "      <td>0.0</td>\n",
       "      <td>0.0</td>\n",
       "      <td>0.0</td>\n",
       "      <td>0.0</td>\n",
       "    </tr>\n",
       "    <tr>\n",
       "      <th>Violent</th>\n",
       "      <td>0.0</td>\n",
       "      <td>0.0</td>\n",
       "      <td>0.0</td>\n",
       "      <td>0.0</td>\n",
       "      <td>0.0</td>\n",
       "      <td>0.0</td>\n",
       "      <td>0.0</td>\n",
       "      <td>0.0</td>\n",
       "      <td>0.0</td>\n",
       "      <td>0.0</td>\n",
       "      <td>...</td>\n",
       "      <td>0.0</td>\n",
       "      <td>0.0</td>\n",
       "      <td>0.0</td>\n",
       "      <td>0.0</td>\n",
       "      <td>0.0</td>\n",
       "      <td>0.0</td>\n",
       "      <td>0.0</td>\n",
       "      <td>0.0</td>\n",
       "      <td>0.0</td>\n",
       "      <td>0.0</td>\n",
       "    </tr>\n",
       "  </tbody>\n",
       "</table>\n",
       "<p>5 rows × 7233 columns</p>\n",
       "</div>"
      ],
      "text/plain": [
       "                     abandon  abandoned  able  aborted  abortions  absolutely  \\\n",
       "track                                                                           \n",
       "Young Black Male         0.0        0.0   0.0      0.0        0.0         0.0   \n",
       "Trapped                  0.0        0.0   0.0      0.0        0.0         0.0   \n",
       "Soulja's Story           0.0        0.0   0.0      0.0        0.0         0.0   \n",
       "I Don't Give A Fuck      0.0        0.0   0.0      0.0        0.0         0.0   \n",
       "Violent                  0.0        0.0   0.0      0.0        0.0         0.0   \n",
       "\n",
       "                     abu  abuse  abused   ac  ...  zig  zigga  zines  zipped  \\\n",
       "track                                         ...                              \n",
       "Young Black Male     0.0    0.0     0.0  0.0  ...  0.0    0.0    0.0     0.0   \n",
       "Trapped              0.0    0.0     0.0  0.0  ...  0.0    0.0    0.0     0.0   \n",
       "Soulja's Story       0.0    0.0     0.0  0.0  ...  0.0    0.0    0.0     0.0   \n",
       "I Don't Give A Fuck  0.0    0.0     0.0  0.0  ...  0.0    0.0    0.0     0.0   \n",
       "Violent              0.0    0.0     0.0  0.0  ...  0.0    0.0    0.0     0.0   \n",
       "\n",
       "                     zodiac  zone  zoo  zoot  zow  zulu  \n",
       "track                                                    \n",
       "Young Black Male        0.0   0.0  0.0   0.0  0.0   0.0  \n",
       "Trapped                 0.0   0.0  0.0   0.0  0.0   0.0  \n",
       "Soulja's Story          0.0   0.0  0.0   0.0  0.0   0.0  \n",
       "I Don't Give A Fuck     0.0   0.0  0.0   0.0  0.0   0.0  \n",
       "Violent                 0.0   0.0  0.0   0.0  0.0   0.0  \n",
       "\n",
       "[5 rows x 7233 columns]"
      ]
     },
     "execution_count": 252,
     "metadata": {},
     "output_type": "execute_result"
    }
   ],
   "source": [
    "df_tfidf_tupac.head()"
   ]
  },
  {
   "cell_type": "code",
   "execution_count": null,
   "metadata": {},
   "outputs": [],
   "source": []
  },
  {
   "cell_type": "markdown",
   "metadata": {},
   "source": [
    "## Tupac"
   ]
  },
  {
   "cell_type": "code",
   "execution_count": 254,
   "metadata": {},
   "outputs": [
    {
     "data": {
      "text/plain": [
       "dont             7.759131\n",
       "aint             7.319458\n",
       "fuck             7.286620\n",
       "cause            6.703743\n",
       "thug             6.698824\n",
       "see              6.508579\n",
       "know             6.346800\n",
       "life             5.895875\n",
       "shit             5.290080\n",
       "time             5.247691\n",
       "em               5.134846\n",
       "die              5.015694\n",
       "go               4.978728\n",
       "baby             4.763573\n",
       "cant             4.672742\n",
       "wanna            4.433154\n",
       "one              4.284063\n",
       "motherfuckers    4.263558\n",
       "bitch            4.169797\n",
       "love             4.117524\n",
       "thats            4.068524\n",
       "man              3.990231\n",
       "ass              3.933776\n",
       "make             3.916196\n",
       "back             3.874544\n",
       "money            3.872862\n",
       "yeah             3.838693\n",
       "still            3.815835\n",
       "never            3.770129\n",
       "gotta            3.760020\n",
       "                   ...   \n",
       "exit             0.021422\n",
       "anorexic         0.021422\n",
       "ducking          0.021422\n",
       "forward          0.021422\n",
       "jackass          0.021422\n",
       "warden           0.021422\n",
       "blaming          0.021422\n",
       "boat             0.021422\n",
       "queasy           0.020334\n",
       "drivebys         0.020334\n",
       "hurl             0.020334\n",
       "heeee            0.020334\n",
       "rectified        0.018916\n",
       "testify          0.018916\n",
       "painted          0.018916\n",
       "absolutely       0.018916\n",
       "climax           0.018916\n",
       "leeway           0.018916\n",
       "redefine         0.018916\n",
       "obliged          0.018916\n",
       "eventually       0.014334\n",
       "beepin           0.014334\n",
       "disrespected     0.014334\n",
       "terminator       0.014334\n",
       "swears           0.014334\n",
       "recently         0.014334\n",
       "rejected         0.014334\n",
       "yaknahmsayin     0.014334\n",
       "dissed           0.014334\n",
       "heights          0.014334\n",
       "Length: 7233, dtype: float64"
      ]
     },
     "execution_count": 254,
     "metadata": {},
     "output_type": "execute_result"
    }
   ],
   "source": [
    "df_tfidf_tupac.sum().sort_values(ascending = False)\n",
    "\n",
    "\n"
   ]
  },
  {
   "cell_type": "markdown",
   "metadata": {},
   "source": [
    "## Biggie"
   ]
  },
  {
   "cell_type": "code",
   "execution_count": 255,
   "metadata": {},
   "outputs": [
    {
     "data": {
      "text/plain": [
       "shit             4.108969\n",
       "dont             4.062244\n",
       "know             4.048869\n",
       "bitch            3.588094\n",
       "aint             3.089940\n",
       "see              2.829472\n",
       "yo               2.754697\n",
       "fuck             2.749140\n",
       "biggie           2.745742\n",
       "come             2.722603\n",
       "love             2.640452\n",
       "big              2.623323\n",
       "cause            2.475248\n",
       "one              2.464969\n",
       "baby             2.417984\n",
       "wanna            2.372916\n",
       "back             2.363057\n",
       "motherfuckers    2.319023\n",
       "em               2.299165\n",
       "want             2.260696\n",
       "thats            2.246366\n",
       "die              2.241888\n",
       "man              2.217927\n",
       "youre            2.187250\n",
       "cant             2.083715\n",
       "take             2.064136\n",
       "time             2.048848\n",
       "yeah             2.043222\n",
       "make             1.989921\n",
       "yall             1.969754\n",
       "                   ...   \n",
       "vuitton          0.012345\n",
       "damien           0.012345\n",
       "soloist          0.012345\n",
       "fiction          0.012345\n",
       "stripped         0.012345\n",
       "armstrong        0.012345\n",
       "stickin          0.012345\n",
       "sticked          0.012345\n",
       "hov              0.012345\n",
       "est              0.012345\n",
       "humongous        0.012345\n",
       "group            0.012345\n",
       "elvis            0.012345\n",
       "eights           0.012345\n",
       "songs            0.012345\n",
       "grandma          0.012345\n",
       "sexin            0.012345\n",
       "based            0.012345\n",
       "drivers          0.012345\n",
       "dra              0.012345\n",
       "larry            0.012345\n",
       "behold           0.012345\n",
       "lefty            0.012345\n",
       "signed           0.012345\n",
       "advanced         0.012345\n",
       "ti               0.012345\n",
       "suplex           0.012345\n",
       "loop             0.012345\n",
       "louis            0.012345\n",
       "pressed          0.012345\n",
       "Length: 5706, dtype: float64"
      ]
     },
     "execution_count": 255,
     "metadata": {},
     "output_type": "execute_result"
    }
   ],
   "source": [
    "df_tfidf_biggie.sum().sort_values(ascending = False)\n"
   ]
  },
  {
   "cell_type": "code",
   "execution_count": null,
   "metadata": {},
   "outputs": [],
   "source": []
  },
  {
   "cell_type": "markdown",
   "metadata": {},
   "source": [
    "# NMF Tupac"
   ]
  },
  {
   "cell_type": "code",
   "execution_count": 256,
   "metadata": {},
   "outputs": [],
   "source": [
    "from sklearn.decomposition import NMF\n",
    "from sklearn.metrics.pairwise import cosine_similarity\n",
    "\n",
    "nmf_model = NMF(5)\n",
    "doc_topic = nmf_model.fit_transform(X_tfidf_tupac)"
   ]
  },
  {
   "cell_type": "code",
   "execution_count": 257,
   "metadata": {},
   "outputs": [
    {
     "data": {
      "text/html": [
       "<div>\n",
       "<style scoped>\n",
       "    .dataframe tbody tr th:only-of-type {\n",
       "        vertical-align: middle;\n",
       "    }\n",
       "\n",
       "    .dataframe tbody tr th {\n",
       "        vertical-align: top;\n",
       "    }\n",
       "\n",
       "    .dataframe thead th {\n",
       "        text-align: right;\n",
       "    }\n",
       "</style>\n",
       "<table border=\"1\" class=\"dataframe\">\n",
       "  <thead>\n",
       "    <tr style=\"text-align: right;\">\n",
       "      <th></th>\n",
       "      <th>abandon</th>\n",
       "      <th>abandoned</th>\n",
       "      <th>able</th>\n",
       "      <th>aborted</th>\n",
       "      <th>abortions</th>\n",
       "      <th>absolutely</th>\n",
       "      <th>abu</th>\n",
       "      <th>abuse</th>\n",
       "      <th>abused</th>\n",
       "      <th>ac</th>\n",
       "      <th>...</th>\n",
       "      <th>zig</th>\n",
       "      <th>zigga</th>\n",
       "      <th>zines</th>\n",
       "      <th>zipped</th>\n",
       "      <th>zodiac</th>\n",
       "      <th>zone</th>\n",
       "      <th>zoo</th>\n",
       "      <th>zoot</th>\n",
       "      <th>zow</th>\n",
       "      <th>zulu</th>\n",
       "    </tr>\n",
       "  </thead>\n",
       "  <tbody>\n",
       "    <tr>\n",
       "      <th>component_0</th>\n",
       "      <td>0.002</td>\n",
       "      <td>0.005</td>\n",
       "      <td>0.001</td>\n",
       "      <td>0.003</td>\n",
       "      <td>0.000</td>\n",
       "      <td>0.0</td>\n",
       "      <td>0.003</td>\n",
       "      <td>0.002</td>\n",
       "      <td>0.001</td>\n",
       "      <td>0.001</td>\n",
       "      <td>...</td>\n",
       "      <td>0.001</td>\n",
       "      <td>0.004</td>\n",
       "      <td>0.006</td>\n",
       "      <td>0.005</td>\n",
       "      <td>0.001</td>\n",
       "      <td>0.015</td>\n",
       "      <td>0.001</td>\n",
       "      <td>0.004</td>\n",
       "      <td>0.003</td>\n",
       "      <td>0.000</td>\n",
       "    </tr>\n",
       "    <tr>\n",
       "      <th>component_1</th>\n",
       "      <td>0.000</td>\n",
       "      <td>0.000</td>\n",
       "      <td>0.000</td>\n",
       "      <td>0.000</td>\n",
       "      <td>0.000</td>\n",
       "      <td>0.0</td>\n",
       "      <td>0.000</td>\n",
       "      <td>0.000</td>\n",
       "      <td>0.000</td>\n",
       "      <td>0.000</td>\n",
       "      <td>...</td>\n",
       "      <td>0.002</td>\n",
       "      <td>0.000</td>\n",
       "      <td>0.000</td>\n",
       "      <td>0.000</td>\n",
       "      <td>0.001</td>\n",
       "      <td>0.000</td>\n",
       "      <td>0.001</td>\n",
       "      <td>0.000</td>\n",
       "      <td>0.002</td>\n",
       "      <td>0.000</td>\n",
       "    </tr>\n",
       "    <tr>\n",
       "      <th>component_2</th>\n",
       "      <td>0.001</td>\n",
       "      <td>0.005</td>\n",
       "      <td>0.008</td>\n",
       "      <td>0.000</td>\n",
       "      <td>0.004</td>\n",
       "      <td>0.0</td>\n",
       "      <td>0.004</td>\n",
       "      <td>0.001</td>\n",
       "      <td>0.001</td>\n",
       "      <td>0.000</td>\n",
       "      <td>...</td>\n",
       "      <td>0.001</td>\n",
       "      <td>0.000</td>\n",
       "      <td>0.000</td>\n",
       "      <td>0.001</td>\n",
       "      <td>0.000</td>\n",
       "      <td>0.011</td>\n",
       "      <td>0.000</td>\n",
       "      <td>0.000</td>\n",
       "      <td>0.000</td>\n",
       "      <td>0.003</td>\n",
       "    </tr>\n",
       "    <tr>\n",
       "      <th>component_3</th>\n",
       "      <td>0.001</td>\n",
       "      <td>0.000</td>\n",
       "      <td>0.000</td>\n",
       "      <td>0.000</td>\n",
       "      <td>0.000</td>\n",
       "      <td>0.0</td>\n",
       "      <td>0.000</td>\n",
       "      <td>0.001</td>\n",
       "      <td>0.001</td>\n",
       "      <td>0.000</td>\n",
       "      <td>...</td>\n",
       "      <td>0.003</td>\n",
       "      <td>0.000</td>\n",
       "      <td>0.000</td>\n",
       "      <td>0.000</td>\n",
       "      <td>0.000</td>\n",
       "      <td>0.000</td>\n",
       "      <td>0.000</td>\n",
       "      <td>0.000</td>\n",
       "      <td>0.000</td>\n",
       "      <td>0.000</td>\n",
       "    </tr>\n",
       "    <tr>\n",
       "      <th>component_4</th>\n",
       "      <td>0.000</td>\n",
       "      <td>0.001</td>\n",
       "      <td>0.000</td>\n",
       "      <td>0.000</td>\n",
       "      <td>0.000</td>\n",
       "      <td>0.0</td>\n",
       "      <td>0.000</td>\n",
       "      <td>0.000</td>\n",
       "      <td>0.000</td>\n",
       "      <td>0.002</td>\n",
       "      <td>...</td>\n",
       "      <td>0.001</td>\n",
       "      <td>0.000</td>\n",
       "      <td>0.000</td>\n",
       "      <td>0.000</td>\n",
       "      <td>0.000</td>\n",
       "      <td>0.000</td>\n",
       "      <td>0.000</td>\n",
       "      <td>0.000</td>\n",
       "      <td>0.000</td>\n",
       "      <td>0.000</td>\n",
       "    </tr>\n",
       "  </tbody>\n",
       "</table>\n",
       "<p>5 rows × 7233 columns</p>\n",
       "</div>"
      ],
      "text/plain": [
       "             abandon  abandoned   able  aborted  abortions  absolutely    abu  \\\n",
       "component_0    0.002      0.005  0.001    0.003      0.000         0.0  0.003   \n",
       "component_1    0.000      0.000  0.000    0.000      0.000         0.0  0.000   \n",
       "component_2    0.001      0.005  0.008    0.000      0.004         0.0  0.004   \n",
       "component_3    0.001      0.000  0.000    0.000      0.000         0.0  0.000   \n",
       "component_4    0.000      0.001  0.000    0.000      0.000         0.0  0.000   \n",
       "\n",
       "             abuse  abused     ac  ...    zig  zigga  zines  zipped  zodiac  \\\n",
       "component_0  0.002   0.001  0.001  ...  0.001  0.004  0.006   0.005   0.001   \n",
       "component_1  0.000   0.000  0.000  ...  0.002  0.000  0.000   0.000   0.001   \n",
       "component_2  0.001   0.001  0.000  ...  0.001  0.000  0.000   0.001   0.000   \n",
       "component_3  0.001   0.001  0.000  ...  0.003  0.000  0.000   0.000   0.000   \n",
       "component_4  0.000   0.000  0.002  ...  0.001  0.000  0.000   0.000   0.000   \n",
       "\n",
       "              zone    zoo   zoot    zow   zulu  \n",
       "component_0  0.015  0.001  0.004  0.003  0.000  \n",
       "component_1  0.000  0.001  0.000  0.002  0.000  \n",
       "component_2  0.011  0.000  0.000  0.000  0.003  \n",
       "component_3  0.000  0.000  0.000  0.000  0.000  \n",
       "component_4  0.000  0.000  0.000  0.000  0.000  \n",
       "\n",
       "[5 rows x 7233 columns]"
      ]
     },
     "execution_count": 257,
     "metadata": {},
     "output_type": "execute_result"
    }
   ],
   "source": [
    "topic_word = pd.DataFrame(nmf_model.components_.round(3),\n",
    "             index = [\"component_0\",\"component_1\", \"component_2\", \"component_3\",\"component_4\"],\n",
    "             columns = cv_tfidf_tupac.get_feature_names())\n",
    "topic_word"
   ]
  },
  {
   "cell_type": "code",
   "execution_count": 258,
   "metadata": {},
   "outputs": [],
   "source": [
    "def display_topics(model, feature_names, no_top_words, topic_names=None):\n",
    "    for ix, topic in enumerate(model.components_):\n",
    "        if not topic_names or not topic_names[ix]:\n",
    "            print(\"\\nTopic \", ix)\n",
    "        else:\n",
    "            print(\"\\nTopic: '\",topic_names[ix],\"'\")\n",
    "        print(\", \".join([feature_names[i]\n",
    "                        for i in topic.argsort()[:-no_top_words - 1:-1]]))"
   ]
  },
  {
   "cell_type": "code",
   "execution_count": 259,
   "metadata": {},
   "outputs": [
    {
     "name": "stdout",
     "output_type": "stream",
     "text": [
      "\n",
      "Topic  0\n",
      "fuck, em, motherfuckers, dont, shit, die, see, aint, ass, life, cause, bitch, ride, bitches, motherfucker\n",
      "\n",
      "Topic  1\n",
      "thug, maybe, lot, hold, baby, lady, passion, girl, yeah, need, give, wanna, want, lovin, call\n",
      "\n",
      "Topic  2\n",
      "time, away, dont, world, mama, know, aint, love, end, baby, home, cause, go, happy, ill\n",
      "\n",
      "Topic  3\n",
      "heaven, ghetto, wonder, death, black, fear, peace, lord, life, die, whupped, shit, reincarnated, mo, street\n",
      "\n",
      "Topic  4\n",
      "shake, city, la, california, party, knows, cali, compton, watts, rocking, uh, rockin, baby, west, ol\n"
     ]
    }
   ],
   "source": [
    "display_topics(nmf_model, cv_tfidf_tupac.get_feature_names(), 15)\n",
    "#topic 0 = neg sentiment\n",
    "#1 = love/romance\n",
    "#2 = romance? "
   ]
  },
  {
   "cell_type": "code",
   "execution_count": 260,
   "metadata": {},
   "outputs": [
    {
     "data": {
      "text/html": [
       "<div>\n",
       "<style scoped>\n",
       "    .dataframe tbody tr th:only-of-type {\n",
       "        vertical-align: middle;\n",
       "    }\n",
       "\n",
       "    .dataframe tbody tr th {\n",
       "        vertical-align: top;\n",
       "    }\n",
       "\n",
       "    .dataframe thead th {\n",
       "        text-align: right;\n",
       "    }\n",
       "</style>\n",
       "<table border=\"1\" class=\"dataframe\">\n",
       "  <thead>\n",
       "    <tr style=\"text-align: right;\">\n",
       "      <th></th>\n",
       "      <th>component_0</th>\n",
       "      <th>component_1</th>\n",
       "      <th>component_2</th>\n",
       "      <th>component_3</th>\n",
       "      <th>component_4</th>\n",
       "    </tr>\n",
       "    <tr>\n",
       "      <th>track</th>\n",
       "      <th></th>\n",
       "      <th></th>\n",
       "      <th></th>\n",
       "      <th></th>\n",
       "      <th></th>\n",
       "    </tr>\n",
       "  </thead>\n",
       "  <tbody>\n",
       "    <tr>\n",
       "      <th>Young Black Male</th>\n",
       "      <td>0.09126</td>\n",
       "      <td>0.00000</td>\n",
       "      <td>0.05336</td>\n",
       "      <td>0.01163</td>\n",
       "      <td>0.00060</td>\n",
       "    </tr>\n",
       "    <tr>\n",
       "      <th>Trapped</th>\n",
       "      <td>0.06346</td>\n",
       "      <td>0.00000</td>\n",
       "      <td>0.13606</td>\n",
       "      <td>0.01109</td>\n",
       "      <td>0.06489</td>\n",
       "    </tr>\n",
       "    <tr>\n",
       "      <th>Soulja's Story</th>\n",
       "      <td>0.04083</td>\n",
       "      <td>0.00000</td>\n",
       "      <td>0.00932</td>\n",
       "      <td>0.04343</td>\n",
       "      <td>0.00000</td>\n",
       "    </tr>\n",
       "    <tr>\n",
       "      <th>I Don't Give A Fuck</th>\n",
       "      <td>0.21995</td>\n",
       "      <td>0.00000</td>\n",
       "      <td>0.02638</td>\n",
       "      <td>0.00005</td>\n",
       "      <td>0.00205</td>\n",
       "    </tr>\n",
       "    <tr>\n",
       "      <th>Violent</th>\n",
       "      <td>0.12896</td>\n",
       "      <td>0.00000</td>\n",
       "      <td>0.07839</td>\n",
       "      <td>0.00000</td>\n",
       "      <td>0.00000</td>\n",
       "    </tr>\n",
       "    <tr>\n",
       "      <th>Words of Wisdom</th>\n",
       "      <td>0.02565</td>\n",
       "      <td>0.00000</td>\n",
       "      <td>0.10696</td>\n",
       "      <td>0.00562</td>\n",
       "      <td>0.00000</td>\n",
       "    </tr>\n",
       "    <tr>\n",
       "      <th>Something Wicked</th>\n",
       "      <td>0.03617</td>\n",
       "      <td>0.00000</td>\n",
       "      <td>0.00595</td>\n",
       "      <td>0.00000</td>\n",
       "      <td>0.00000</td>\n",
       "    </tr>\n",
       "    <tr>\n",
       "      <th>Crooked Ass Nigga</th>\n",
       "      <td>0.10664</td>\n",
       "      <td>0.00000</td>\n",
       "      <td>0.00000</td>\n",
       "      <td>0.00482</td>\n",
       "      <td>0.00000</td>\n",
       "    </tr>\n",
       "    <tr>\n",
       "      <th>If My Homie Calls</th>\n",
       "      <td>0.03286</td>\n",
       "      <td>0.00000</td>\n",
       "      <td>0.16684</td>\n",
       "      <td>0.00000</td>\n",
       "      <td>0.02388</td>\n",
       "    </tr>\n",
       "    <tr>\n",
       "      <th>Brenda's Got a Baby</th>\n",
       "      <td>0.00000</td>\n",
       "      <td>0.00422</td>\n",
       "      <td>0.20670</td>\n",
       "      <td>0.00947</td>\n",
       "      <td>0.01729</td>\n",
       "    </tr>\n",
       "    <tr>\n",
       "      <th>Tha' Lunatic</th>\n",
       "      <td>0.21370</td>\n",
       "      <td>0.00000</td>\n",
       "      <td>0.00000</td>\n",
       "      <td>0.00000</td>\n",
       "      <td>0.00000</td>\n",
       "    </tr>\n",
       "    <tr>\n",
       "      <th>Rebel of the Underground</th>\n",
       "      <td>0.06403</td>\n",
       "      <td>0.00505</td>\n",
       "      <td>0.05366</td>\n",
       "      <td>0.01869</td>\n",
       "      <td>0.00000</td>\n",
       "    </tr>\n",
       "    <tr>\n",
       "      <th>Part Time Mutha</th>\n",
       "      <td>0.03235</td>\n",
       "      <td>0.00000</td>\n",
       "      <td>0.17757</td>\n",
       "      <td>0.00000</td>\n",
       "      <td>0.06399</td>\n",
       "    </tr>\n",
       "    <tr>\n",
       "      <th>Holler If Ya Hear Me</th>\n",
       "      <td>0.09746</td>\n",
       "      <td>0.00000</td>\n",
       "      <td>0.13826</td>\n",
       "      <td>0.02036</td>\n",
       "      <td>0.00000</td>\n",
       "    </tr>\n",
       "    <tr>\n",
       "      <th>Point the Finga</th>\n",
       "      <td>0.14655</td>\n",
       "      <td>0.00000</td>\n",
       "      <td>0.01357</td>\n",
       "      <td>0.00894</td>\n",
       "      <td>0.00000</td>\n",
       "    </tr>\n",
       "    <tr>\n",
       "      <th>Last Wordz</th>\n",
       "      <td>0.12130</td>\n",
       "      <td>0.00000</td>\n",
       "      <td>0.04512</td>\n",
       "      <td>0.01944</td>\n",
       "      <td>0.01562</td>\n",
       "    </tr>\n",
       "    <tr>\n",
       "      <th>Souljah's Revenge</th>\n",
       "      <td>0.16854</td>\n",
       "      <td>0.00000</td>\n",
       "      <td>0.00000</td>\n",
       "      <td>0.01320</td>\n",
       "      <td>0.03862</td>\n",
       "    </tr>\n",
       "    <tr>\n",
       "      <th>Peep Game</th>\n",
       "      <td>0.16652</td>\n",
       "      <td>0.00000</td>\n",
       "      <td>0.03321</td>\n",
       "      <td>0.01113</td>\n",
       "      <td>0.01750</td>\n",
       "    </tr>\n",
       "    <tr>\n",
       "      <th>Strugglin'</th>\n",
       "      <td>0.14673</td>\n",
       "      <td>0.00242</td>\n",
       "      <td>0.03259</td>\n",
       "      <td>0.00000</td>\n",
       "      <td>0.00000</td>\n",
       "    </tr>\n",
       "    <tr>\n",
       "      <th>Guess Who's Back</th>\n",
       "      <td>0.08699</td>\n",
       "      <td>0.00000</td>\n",
       "      <td>0.04731</td>\n",
       "      <td>0.02556</td>\n",
       "      <td>0.04106</td>\n",
       "    </tr>\n",
       "    <tr>\n",
       "      <th>Representin' 93</th>\n",
       "      <td>0.14967</td>\n",
       "      <td>0.00000</td>\n",
       "      <td>0.00597</td>\n",
       "      <td>0.00040</td>\n",
       "      <td>0.00000</td>\n",
       "    </tr>\n",
       "    <tr>\n",
       "      <th>Keep Ya Head Up</th>\n",
       "      <td>0.00902</td>\n",
       "      <td>0.00320</td>\n",
       "      <td>0.28784</td>\n",
       "      <td>0.02353</td>\n",
       "      <td>0.00000</td>\n",
       "    </tr>\n",
       "    <tr>\n",
       "      <th>Strictly 4 My N.I.G.G.A.Z...</th>\n",
       "      <td>0.03693</td>\n",
       "      <td>0.00008</td>\n",
       "      <td>0.02006</td>\n",
       "      <td>0.00000</td>\n",
       "      <td>0.00279</td>\n",
       "    </tr>\n",
       "    <tr>\n",
       "      <th>The Streetz R Deathrow</th>\n",
       "      <td>0.04168</td>\n",
       "      <td>0.00000</td>\n",
       "      <td>0.16355</td>\n",
       "      <td>0.02251</td>\n",
       "      <td>0.02212</td>\n",
       "    </tr>\n",
       "    <tr>\n",
       "      <th>I Get Around</th>\n",
       "      <td>0.02756</td>\n",
       "      <td>0.00967</td>\n",
       "      <td>0.08254</td>\n",
       "      <td>0.00000</td>\n",
       "      <td>0.00000</td>\n",
       "    </tr>\n",
       "    <tr>\n",
       "      <th>Papa'z Song</th>\n",
       "      <td>0.01026</td>\n",
       "      <td>0.00000</td>\n",
       "      <td>0.28319</td>\n",
       "      <td>0.02111</td>\n",
       "      <td>0.00000</td>\n",
       "    </tr>\n",
       "    <tr>\n",
       "      <th>5 Deadly Venomz</th>\n",
       "      <td>0.18968</td>\n",
       "      <td>0.01130</td>\n",
       "      <td>0.00000</td>\n",
       "      <td>0.00000</td>\n",
       "      <td>0.00000</td>\n",
       "    </tr>\n",
       "    <tr>\n",
       "      <th>If I Die 2Nite</th>\n",
       "      <td>0.11335</td>\n",
       "      <td>0.00436</td>\n",
       "      <td>0.00000</td>\n",
       "      <td>0.10481</td>\n",
       "      <td>0.00000</td>\n",
       "    </tr>\n",
       "    <tr>\n",
       "      <th>Me Against the World</th>\n",
       "      <td>0.00000</td>\n",
       "      <td>0.01482</td>\n",
       "      <td>0.25095</td>\n",
       "      <td>0.00177</td>\n",
       "      <td>0.02473</td>\n",
       "    </tr>\n",
       "    <tr>\n",
       "      <th>So Many Tears</th>\n",
       "      <td>0.00000</td>\n",
       "      <td>0.00000</td>\n",
       "      <td>0.18463</td>\n",
       "      <td>0.10144</td>\n",
       "      <td>0.00000</td>\n",
       "    </tr>\n",
       "    <tr>\n",
       "      <th>...</th>\n",
       "      <td>...</td>\n",
       "      <td>...</td>\n",
       "      <td>...</td>\n",
       "      <td>...</td>\n",
       "      <td>...</td>\n",
       "    </tr>\n",
       "    <tr>\n",
       "      <th>Hail Mary</th>\n",
       "      <td>0.07538</td>\n",
       "      <td>0.00900</td>\n",
       "      <td>0.01232</td>\n",
       "      <td>0.00186</td>\n",
       "      <td>0.16993</td>\n",
       "    </tr>\n",
       "    <tr>\n",
       "      <th>Toss It Up</th>\n",
       "      <td>0.03818</td>\n",
       "      <td>0.10095</td>\n",
       "      <td>0.10264</td>\n",
       "      <td>0.00000</td>\n",
       "      <td>0.03913</td>\n",
       "    </tr>\n",
       "    <tr>\n",
       "      <th>To Live And Die in L.A.</th>\n",
       "      <td>0.06337</td>\n",
       "      <td>0.00453</td>\n",
       "      <td>0.03471</td>\n",
       "      <td>0.02965</td>\n",
       "      <td>0.32584</td>\n",
       "    </tr>\n",
       "    <tr>\n",
       "      <th>Blasphemy</th>\n",
       "      <td>0.03614</td>\n",
       "      <td>0.00000</td>\n",
       "      <td>0.13740</td>\n",
       "      <td>0.14022</td>\n",
       "      <td>0.00000</td>\n",
       "    </tr>\n",
       "    <tr>\n",
       "      <th>Life Of An Outlaw</th>\n",
       "      <td>0.16822</td>\n",
       "      <td>0.00000</td>\n",
       "      <td>0.05759</td>\n",
       "      <td>0.01817</td>\n",
       "      <td>0.02460</td>\n",
       "    </tr>\n",
       "    <tr>\n",
       "      <th>Just Like Daddy</th>\n",
       "      <td>0.00000</td>\n",
       "      <td>0.06828</td>\n",
       "      <td>0.20439</td>\n",
       "      <td>0.00000</td>\n",
       "      <td>0.02192</td>\n",
       "    </tr>\n",
       "    <tr>\n",
       "      <th>Krazy</th>\n",
       "      <td>0.06759</td>\n",
       "      <td>0.05449</td>\n",
       "      <td>0.17291</td>\n",
       "      <td>0.03773</td>\n",
       "      <td>0.00342</td>\n",
       "    </tr>\n",
       "    <tr>\n",
       "      <th>White Man'z World</th>\n",
       "      <td>0.00767</td>\n",
       "      <td>0.00000</td>\n",
       "      <td>0.25400</td>\n",
       "      <td>0.04922</td>\n",
       "      <td>0.00000</td>\n",
       "    </tr>\n",
       "    <tr>\n",
       "      <th>Me and My Girlfriend</th>\n",
       "      <td>0.02030</td>\n",
       "      <td>0.00736</td>\n",
       "      <td>0.12723</td>\n",
       "      <td>0.01848</td>\n",
       "      <td>0.01475</td>\n",
       "    </tr>\n",
       "    <tr>\n",
       "      <th>Hold Ya Head</th>\n",
       "      <td>0.03098</td>\n",
       "      <td>0.14307</td>\n",
       "      <td>0.14099</td>\n",
       "      <td>0.04854</td>\n",
       "      <td>0.00000</td>\n",
       "    </tr>\n",
       "    <tr>\n",
       "      <th>Against All Odds</th>\n",
       "      <td>0.11834</td>\n",
       "      <td>0.02041</td>\n",
       "      <td>0.03462</td>\n",
       "      <td>0.00697</td>\n",
       "      <td>0.00545</td>\n",
       "    </tr>\n",
       "    <tr>\n",
       "      <th>Open Fire</th>\n",
       "      <td>0.19303</td>\n",
       "      <td>0.02639</td>\n",
       "      <td>0.04878</td>\n",
       "      <td>0.00000</td>\n",
       "      <td>0.00000</td>\n",
       "    </tr>\n",
       "    <tr>\n",
       "      <th>R U Still Down? (Remember Me)</th>\n",
       "      <td>0.12628</td>\n",
       "      <td>0.00270</td>\n",
       "      <td>0.10707</td>\n",
       "      <td>0.02253</td>\n",
       "      <td>0.00000</td>\n",
       "    </tr>\n",
       "    <tr>\n",
       "      <th>Hellrazor</th>\n",
       "      <td>0.02292</td>\n",
       "      <td>0.01884</td>\n",
       "      <td>0.15490</td>\n",
       "      <td>0.04546</td>\n",
       "      <td>0.01235</td>\n",
       "    </tr>\n",
       "    <tr>\n",
       "      <th>Thug Style</th>\n",
       "      <td>0.12606</td>\n",
       "      <td>0.00725</td>\n",
       "      <td>0.07363</td>\n",
       "      <td>0.00000</td>\n",
       "      <td>0.01331</td>\n",
       "    </tr>\n",
       "    <tr>\n",
       "      <th>Where Do We Go From Here (Interlude)</th>\n",
       "      <td>0.11445</td>\n",
       "      <td>0.00000</td>\n",
       "      <td>0.03225</td>\n",
       "      <td>0.01566</td>\n",
       "      <td>0.00000</td>\n",
       "    </tr>\n",
       "    <tr>\n",
       "      <th>I Wonder If Heaven Got a Ghetto</th>\n",
       "      <td>0.00000</td>\n",
       "      <td>0.00000</td>\n",
       "      <td>0.00000</td>\n",
       "      <td>0.76443</td>\n",
       "      <td>0.00000</td>\n",
       "    </tr>\n",
       "    <tr>\n",
       "      <th>Nothing to Lose</th>\n",
       "      <td>0.03635</td>\n",
       "      <td>0.05319</td>\n",
       "      <td>0.11492</td>\n",
       "      <td>0.09449</td>\n",
       "      <td>0.04108</td>\n",
       "    </tr>\n",
       "    <tr>\n",
       "      <th>I'm Gettin Money</th>\n",
       "      <td>0.18799</td>\n",
       "      <td>0.02278</td>\n",
       "      <td>0.02825</td>\n",
       "      <td>0.00000</td>\n",
       "      <td>0.02083</td>\n",
       "    </tr>\n",
       "    <tr>\n",
       "      <th>Lie To Kick It</th>\n",
       "      <td>0.13539</td>\n",
       "      <td>0.00000</td>\n",
       "      <td>0.00000</td>\n",
       "      <td>0.00000</td>\n",
       "      <td>0.00000</td>\n",
       "    </tr>\n",
       "    <tr>\n",
       "      <th>Fuck All Y'all</th>\n",
       "      <td>0.18025</td>\n",
       "      <td>0.00146</td>\n",
       "      <td>0.00000</td>\n",
       "      <td>0.00000</td>\n",
       "      <td>0.00000</td>\n",
       "    </tr>\n",
       "    <tr>\n",
       "      <th>Let Them Thangs Go</th>\n",
       "      <td>0.15721</td>\n",
       "      <td>0.00000</td>\n",
       "      <td>0.00000</td>\n",
       "      <td>0.00000</td>\n",
       "      <td>0.00000</td>\n",
       "    </tr>\n",
       "    <tr>\n",
       "      <th>Definition of a Thug Nigga</th>\n",
       "      <td>0.08203</td>\n",
       "      <td>0.07792</td>\n",
       "      <td>0.00199</td>\n",
       "      <td>0.00097</td>\n",
       "      <td>0.02962</td>\n",
       "    </tr>\n",
       "    <tr>\n",
       "      <th>Ready 4 Whatever</th>\n",
       "      <td>0.10540</td>\n",
       "      <td>0.06491</td>\n",
       "      <td>0.01885</td>\n",
       "      <td>0.07356</td>\n",
       "      <td>0.03682</td>\n",
       "    </tr>\n",
       "    <tr>\n",
       "      <th>When I Get Free III</th>\n",
       "      <td>0.11042</td>\n",
       "      <td>0.01361</td>\n",
       "      <td>0.13638</td>\n",
       "      <td>0.00273</td>\n",
       "      <td>0.00000</td>\n",
       "    </tr>\n",
       "    <tr>\n",
       "      <th>Hold on Be Strong</th>\n",
       "      <td>0.02028</td>\n",
       "      <td>0.12768</td>\n",
       "      <td>0.19700</td>\n",
       "      <td>0.07499</td>\n",
       "      <td>0.00000</td>\n",
       "    </tr>\n",
       "    <tr>\n",
       "      <th>I'm Losin' It</th>\n",
       "      <td>0.07127</td>\n",
       "      <td>0.03329</td>\n",
       "      <td>0.00512</td>\n",
       "      <td>0.01136</td>\n",
       "      <td>0.00332</td>\n",
       "    </tr>\n",
       "    <tr>\n",
       "      <th>Fake Ass Bitches</th>\n",
       "      <td>0.17829</td>\n",
       "      <td>0.02427</td>\n",
       "      <td>0.00000</td>\n",
       "      <td>0.00000</td>\n",
       "      <td>0.00000</td>\n",
       "    </tr>\n",
       "    <tr>\n",
       "      <th>Do for Love</th>\n",
       "      <td>0.00000</td>\n",
       "      <td>0.01356</td>\n",
       "      <td>0.27258</td>\n",
       "      <td>0.00000</td>\n",
       "      <td>0.01022</td>\n",
       "    </tr>\n",
       "    <tr>\n",
       "      <th>Enemies With Me</th>\n",
       "      <td>0.23004</td>\n",
       "      <td>0.00179</td>\n",
       "      <td>0.04825</td>\n",
       "      <td>0.00000</td>\n",
       "      <td>0.00000</td>\n",
       "    </tr>\n",
       "  </tbody>\n",
       "</table>\n",
       "<p>100 rows × 5 columns</p>\n",
       "</div>"
      ],
      "text/plain": [
       "                                      component_0  component_1  component_2  \\\n",
       "track                                                                         \n",
       "Young Black Male                          0.09126      0.00000      0.05336   \n",
       "Trapped                                   0.06346      0.00000      0.13606   \n",
       "Soulja's Story                            0.04083      0.00000      0.00932   \n",
       "I Don't Give A Fuck                       0.21995      0.00000      0.02638   \n",
       "Violent                                   0.12896      0.00000      0.07839   \n",
       "Words of Wisdom                           0.02565      0.00000      0.10696   \n",
       "Something Wicked                          0.03617      0.00000      0.00595   \n",
       "Crooked Ass Nigga                         0.10664      0.00000      0.00000   \n",
       "If My Homie Calls                         0.03286      0.00000      0.16684   \n",
       "Brenda's Got a Baby                       0.00000      0.00422      0.20670   \n",
       "Tha' Lunatic                              0.21370      0.00000      0.00000   \n",
       "Rebel of the Underground                  0.06403      0.00505      0.05366   \n",
       "Part Time Mutha                           0.03235      0.00000      0.17757   \n",
       "Holler If Ya Hear Me                      0.09746      0.00000      0.13826   \n",
       "Point the Finga                           0.14655      0.00000      0.01357   \n",
       "Last Wordz                                0.12130      0.00000      0.04512   \n",
       "Souljah's Revenge                         0.16854      0.00000      0.00000   \n",
       "Peep Game                                 0.16652      0.00000      0.03321   \n",
       "Strugglin'                                0.14673      0.00242      0.03259   \n",
       "Guess Who's Back                          0.08699      0.00000      0.04731   \n",
       "Representin' 93                           0.14967      0.00000      0.00597   \n",
       "Keep Ya Head Up                           0.00902      0.00320      0.28784   \n",
       "Strictly 4 My N.I.G.G.A.Z...              0.03693      0.00008      0.02006   \n",
       "The Streetz R Deathrow                    0.04168      0.00000      0.16355   \n",
       "I Get Around                              0.02756      0.00967      0.08254   \n",
       "Papa'z Song                               0.01026      0.00000      0.28319   \n",
       "5 Deadly Venomz                           0.18968      0.01130      0.00000   \n",
       "If I Die 2Nite                            0.11335      0.00436      0.00000   \n",
       "Me Against the World                      0.00000      0.01482      0.25095   \n",
       "So Many Tears                             0.00000      0.00000      0.18463   \n",
       "...                                           ...          ...          ...   \n",
       "Hail Mary                                 0.07538      0.00900      0.01232   \n",
       "Toss It Up                                0.03818      0.10095      0.10264   \n",
       "To Live And Die in L.A.                   0.06337      0.00453      0.03471   \n",
       "Blasphemy                                 0.03614      0.00000      0.13740   \n",
       "Life Of An Outlaw                         0.16822      0.00000      0.05759   \n",
       "Just Like Daddy                           0.00000      0.06828      0.20439   \n",
       "Krazy                                     0.06759      0.05449      0.17291   \n",
       "White Man'z World                         0.00767      0.00000      0.25400   \n",
       "Me and My Girlfriend                      0.02030      0.00736      0.12723   \n",
       "Hold Ya Head                              0.03098      0.14307      0.14099   \n",
       "Against All Odds                          0.11834      0.02041      0.03462   \n",
       "Open Fire                                 0.19303      0.02639      0.04878   \n",
       "R U Still Down? (Remember Me)             0.12628      0.00270      0.10707   \n",
       "Hellrazor                                 0.02292      0.01884      0.15490   \n",
       "Thug Style                                0.12606      0.00725      0.07363   \n",
       "Where Do We Go From Here (Interlude)      0.11445      0.00000      0.03225   \n",
       "I Wonder If Heaven Got a Ghetto           0.00000      0.00000      0.00000   \n",
       "Nothing to Lose                           0.03635      0.05319      0.11492   \n",
       "I'm Gettin Money                          0.18799      0.02278      0.02825   \n",
       "Lie To Kick It                            0.13539      0.00000      0.00000   \n",
       "Fuck All Y'all                            0.18025      0.00146      0.00000   \n",
       "Let Them Thangs Go                        0.15721      0.00000      0.00000   \n",
       "Definition of a Thug Nigga                0.08203      0.07792      0.00199   \n",
       "Ready 4 Whatever                          0.10540      0.06491      0.01885   \n",
       "When I Get Free III                       0.11042      0.01361      0.13638   \n",
       "Hold on Be Strong                         0.02028      0.12768      0.19700   \n",
       "I'm Losin' It                             0.07127      0.03329      0.00512   \n",
       "Fake Ass Bitches                          0.17829      0.02427      0.00000   \n",
       "Do for Love                               0.00000      0.01356      0.27258   \n",
       "Enemies With Me                           0.23004      0.00179      0.04825   \n",
       "\n",
       "                                      component_3  component_4  \n",
       "track                                                           \n",
       "Young Black Male                          0.01163      0.00060  \n",
       "Trapped                                   0.01109      0.06489  \n",
       "Soulja's Story                            0.04343      0.00000  \n",
       "I Don't Give A Fuck                       0.00005      0.00205  \n",
       "Violent                                   0.00000      0.00000  \n",
       "Words of Wisdom                           0.00562      0.00000  \n",
       "Something Wicked                          0.00000      0.00000  \n",
       "Crooked Ass Nigga                         0.00482      0.00000  \n",
       "If My Homie Calls                         0.00000      0.02388  \n",
       "Brenda's Got a Baby                       0.00947      0.01729  \n",
       "Tha' Lunatic                              0.00000      0.00000  \n",
       "Rebel of the Underground                  0.01869      0.00000  \n",
       "Part Time Mutha                           0.00000      0.06399  \n",
       "Holler If Ya Hear Me                      0.02036      0.00000  \n",
       "Point the Finga                           0.00894      0.00000  \n",
       "Last Wordz                                0.01944      0.01562  \n",
       "Souljah's Revenge                         0.01320      0.03862  \n",
       "Peep Game                                 0.01113      0.01750  \n",
       "Strugglin'                                0.00000      0.00000  \n",
       "Guess Who's Back                          0.02556      0.04106  \n",
       "Representin' 93                           0.00040      0.00000  \n",
       "Keep Ya Head Up                           0.02353      0.00000  \n",
       "Strictly 4 My N.I.G.G.A.Z...              0.00000      0.00279  \n",
       "The Streetz R Deathrow                    0.02251      0.02212  \n",
       "I Get Around                              0.00000      0.00000  \n",
       "Papa'z Song                               0.02111      0.00000  \n",
       "5 Deadly Venomz                           0.00000      0.00000  \n",
       "If I Die 2Nite                            0.10481      0.00000  \n",
       "Me Against the World                      0.00177      0.02473  \n",
       "So Many Tears                             0.10144      0.00000  \n",
       "...                                           ...          ...  \n",
       "Hail Mary                                 0.00186      0.16993  \n",
       "Toss It Up                                0.00000      0.03913  \n",
       "To Live And Die in L.A.                   0.02965      0.32584  \n",
       "Blasphemy                                 0.14022      0.00000  \n",
       "Life Of An Outlaw                         0.01817      0.02460  \n",
       "Just Like Daddy                           0.00000      0.02192  \n",
       "Krazy                                     0.03773      0.00342  \n",
       "White Man'z World                         0.04922      0.00000  \n",
       "Me and My Girlfriend                      0.01848      0.01475  \n",
       "Hold Ya Head                              0.04854      0.00000  \n",
       "Against All Odds                          0.00697      0.00545  \n",
       "Open Fire                                 0.00000      0.00000  \n",
       "R U Still Down? (Remember Me)             0.02253      0.00000  \n",
       "Hellrazor                                 0.04546      0.01235  \n",
       "Thug Style                                0.00000      0.01331  \n",
       "Where Do We Go From Here (Interlude)      0.01566      0.00000  \n",
       "I Wonder If Heaven Got a Ghetto           0.76443      0.00000  \n",
       "Nothing to Lose                           0.09449      0.04108  \n",
       "I'm Gettin Money                          0.00000      0.02083  \n",
       "Lie To Kick It                            0.00000      0.00000  \n",
       "Fuck All Y'all                            0.00000      0.00000  \n",
       "Let Them Thangs Go                        0.00000      0.00000  \n",
       "Definition of a Thug Nigga                0.00097      0.02962  \n",
       "Ready 4 Whatever                          0.07356      0.03682  \n",
       "When I Get Free III                       0.00273      0.00000  \n",
       "Hold on Be Strong                         0.07499      0.00000  \n",
       "I'm Losin' It                             0.01136      0.00332  \n",
       "Fake Ass Bitches                          0.00000      0.00000  \n",
       "Do for Love                               0.00000      0.01022  \n",
       "Enemies With Me                           0.00000      0.00000  \n",
       "\n",
       "[100 rows x 5 columns]"
      ]
     },
     "execution_count": 260,
     "metadata": {},
     "output_type": "execute_result"
    }
   ],
   "source": [
    "doc_top = pd.DataFrame(doc_topic.round(5),\n",
    "             index = df_tupac['track'],\n",
    "             columns = [\"component_0\",\"component_1\", \"component_2\", \"component_3\",\"component_4\" ])\n",
    "doc_top.head(100)"
   ]
  },
  {
   "cell_type": "code",
   "execution_count": 261,
   "metadata": {},
   "outputs": [
    {
     "data": {
      "text/plain": [
       "component_0                                         Fuck 'Em All\n",
       "component_1                           Thug N U Thug N Me (Remix)\n",
       "component_2                        Dear Mama (Frank Nitty Remix)\n",
       "component_3    I Wonder If Heaven Got a Ghetto (Hip-Hop Version)\n",
       "component_4                                      California Love\n",
       "dtype: object"
      ]
     },
     "execution_count": 261,
     "metadata": {},
     "output_type": "execute_result"
    }
   ],
   "source": [
    "doc_top.idxmax()"
   ]
  },
  {
   "cell_type": "code",
   "execution_count": null,
   "metadata": {},
   "outputs": [],
   "source": []
  },
  {
   "cell_type": "markdown",
   "metadata": {},
   "source": [
    "# NMF Biggie"
   ]
  },
  {
   "cell_type": "code",
   "execution_count": 262,
   "metadata": {},
   "outputs": [],
   "source": [
    "nmf_model = NMF(4)\n",
    "doc_topic = nmf_model.fit_transform(X_tfidf_biggie)"
   ]
  },
  {
   "cell_type": "code",
   "execution_count": 263,
   "metadata": {},
   "outputs": [
    {
     "data": {
      "text/html": [
       "<div>\n",
       "<style scoped>\n",
       "    .dataframe tbody tr th:only-of-type {\n",
       "        vertical-align: middle;\n",
       "    }\n",
       "\n",
       "    .dataframe tbody tr th {\n",
       "        vertical-align: top;\n",
       "    }\n",
       "\n",
       "    .dataframe thead th {\n",
       "        text-align: right;\n",
       "    }\n",
       "</style>\n",
       "<table border=\"1\" class=\"dataframe\">\n",
       "  <thead>\n",
       "    <tr style=\"text-align: right;\">\n",
       "      <th></th>\n",
       "      <th>ab</th>\n",
       "      <th>abandon</th>\n",
       "      <th>abandoned</th>\n",
       "      <th>abduct</th>\n",
       "      <th>able</th>\n",
       "      <th>abortion</th>\n",
       "      <th>absent</th>\n",
       "      <th>absolutely</th>\n",
       "      <th>absorb</th>\n",
       "      <th>abuser</th>\n",
       "      <th>...</th>\n",
       "      <th>yummy</th>\n",
       "      <th>yup</th>\n",
       "      <th>zee</th>\n",
       "      <th>zero</th>\n",
       "      <th>zhane</th>\n",
       "      <th>zhite</th>\n",
       "      <th>zip</th>\n",
       "      <th>zone</th>\n",
       "      <th>zus</th>\n",
       "      <th>zy</th>\n",
       "    </tr>\n",
       "  </thead>\n",
       "  <tbody>\n",
       "    <tr>\n",
       "      <th>component_0</th>\n",
       "      <td>0.018</td>\n",
       "      <td>0.003</td>\n",
       "      <td>0.006</td>\n",
       "      <td>0.004</td>\n",
       "      <td>0.017</td>\n",
       "      <td>0.017</td>\n",
       "      <td>0.006</td>\n",
       "      <td>0.002</td>\n",
       "      <td>0.005</td>\n",
       "      <td>0.007</td>\n",
       "      <td>...</td>\n",
       "      <td>0.001</td>\n",
       "      <td>0.002</td>\n",
       "      <td>0.019</td>\n",
       "      <td>0.002</td>\n",
       "      <td>0.000</td>\n",
       "      <td>0.01</td>\n",
       "      <td>0.004</td>\n",
       "      <td>0.011</td>\n",
       "      <td>0.004</td>\n",
       "      <td>0.004</td>\n",
       "    </tr>\n",
       "    <tr>\n",
       "      <th>component_1</th>\n",
       "      <td>0.000</td>\n",
       "      <td>0.003</td>\n",
       "      <td>0.001</td>\n",
       "      <td>0.002</td>\n",
       "      <td>0.000</td>\n",
       "      <td>0.000</td>\n",
       "      <td>0.000</td>\n",
       "      <td>0.002</td>\n",
       "      <td>0.000</td>\n",
       "      <td>0.000</td>\n",
       "      <td>...</td>\n",
       "      <td>0.000</td>\n",
       "      <td>0.013</td>\n",
       "      <td>0.000</td>\n",
       "      <td>0.005</td>\n",
       "      <td>0.000</td>\n",
       "      <td>0.00</td>\n",
       "      <td>0.000</td>\n",
       "      <td>0.000</td>\n",
       "      <td>0.005</td>\n",
       "      <td>0.002</td>\n",
       "    </tr>\n",
       "    <tr>\n",
       "      <th>component_2</th>\n",
       "      <td>0.011</td>\n",
       "      <td>0.002</td>\n",
       "      <td>0.000</td>\n",
       "      <td>0.002</td>\n",
       "      <td>0.000</td>\n",
       "      <td>0.000</td>\n",
       "      <td>0.000</td>\n",
       "      <td>0.003</td>\n",
       "      <td>0.000</td>\n",
       "      <td>0.002</td>\n",
       "      <td>...</td>\n",
       "      <td>0.000</td>\n",
       "      <td>0.000</td>\n",
       "      <td>0.000</td>\n",
       "      <td>0.003</td>\n",
       "      <td>0.009</td>\n",
       "      <td>0.00</td>\n",
       "      <td>0.001</td>\n",
       "      <td>0.003</td>\n",
       "      <td>0.000</td>\n",
       "      <td>0.002</td>\n",
       "    </tr>\n",
       "    <tr>\n",
       "      <th>component_3</th>\n",
       "      <td>0.003</td>\n",
       "      <td>0.000</td>\n",
       "      <td>0.000</td>\n",
       "      <td>0.000</td>\n",
       "      <td>0.002</td>\n",
       "      <td>0.000</td>\n",
       "      <td>0.000</td>\n",
       "      <td>0.000</td>\n",
       "      <td>0.002</td>\n",
       "      <td>0.000</td>\n",
       "      <td>...</td>\n",
       "      <td>0.000</td>\n",
       "      <td>0.000</td>\n",
       "      <td>0.000</td>\n",
       "      <td>0.000</td>\n",
       "      <td>0.000</td>\n",
       "      <td>0.00</td>\n",
       "      <td>0.000</td>\n",
       "      <td>0.000</td>\n",
       "      <td>0.000</td>\n",
       "      <td>0.000</td>\n",
       "    </tr>\n",
       "  </tbody>\n",
       "</table>\n",
       "<p>4 rows × 5706 columns</p>\n",
       "</div>"
      ],
      "text/plain": [
       "                ab  abandon  abandoned  abduct   able  abortion  absent  \\\n",
       "component_0  0.018    0.003      0.006   0.004  0.017     0.017   0.006   \n",
       "component_1  0.000    0.003      0.001   0.002  0.000     0.000   0.000   \n",
       "component_2  0.011    0.002      0.000   0.002  0.000     0.000   0.000   \n",
       "component_3  0.003    0.000      0.000   0.000  0.002     0.000   0.000   \n",
       "\n",
       "             absolutely  absorb  abuser  ...  yummy    yup    zee   zero  \\\n",
       "component_0       0.002   0.005   0.007  ...  0.001  0.002  0.019  0.002   \n",
       "component_1       0.002   0.000   0.000  ...  0.000  0.013  0.000  0.005   \n",
       "component_2       0.003   0.000   0.002  ...  0.000  0.000  0.000  0.003   \n",
       "component_3       0.000   0.002   0.000  ...  0.000  0.000  0.000  0.000   \n",
       "\n",
       "             zhane  zhite    zip   zone    zus     zy  \n",
       "component_0  0.000   0.01  0.004  0.011  0.004  0.004  \n",
       "component_1  0.000   0.00  0.000  0.000  0.005  0.002  \n",
       "component_2  0.009   0.00  0.001  0.003  0.000  0.002  \n",
       "component_3  0.000   0.00  0.000  0.000  0.000  0.000  \n",
       "\n",
       "[4 rows x 5706 columns]"
      ]
     },
     "execution_count": 263,
     "metadata": {},
     "output_type": "execute_result"
    }
   ],
   "source": [
    "topic_word = pd.DataFrame(nmf_model.components_.round(3),\n",
    "             index = [\"component_0\",\"component_1\", \"component_2\", 'component_3'],\n",
    "             columns = cv_tfidf_biggie.get_feature_names())\n",
    "topic_word"
   ]
  },
  {
   "cell_type": "code",
   "execution_count": 264,
   "metadata": {},
   "outputs": [
    {
     "name": "stdout",
     "output_type": "stream",
     "text": [
      "\n",
      "Topic  0\n",
      "dont, know, baby, youre, aint, love, cause, see, big, shit, cant, wanna, never, time, take\n",
      "\n",
      "Topic  1\n",
      "motherfuckers, come, ready, biggie, die, funk, yes, proceed, shit, grab, bone, pray, coast, one, lets\n",
      "\n",
      "Topic  2\n",
      "bitch, hoes, shit, nasty, fucking, another, yo, fuck, dick, know, ass, dee, aint, oh, bitches\n",
      "\n",
      "Topic  3\n",
      "beef, ha, icu, whats, guaranteed, pow, yall, shit, em, check, bad, jeep, dont, safe, see\n"
     ]
    }
   ],
   "source": [
    "display_topics(nmf_model, cv_tfidf_biggie.get_feature_names(), 15)"
   ]
  },
  {
   "cell_type": "code",
   "execution_count": 265,
   "metadata": {},
   "outputs": [
    {
     "data": {
      "text/html": [
       "<div>\n",
       "<style scoped>\n",
       "    .dataframe tbody tr th:only-of-type {\n",
       "        vertical-align: middle;\n",
       "    }\n",
       "\n",
       "    .dataframe tbody tr th {\n",
       "        vertical-align: top;\n",
       "    }\n",
       "\n",
       "    .dataframe thead th {\n",
       "        text-align: right;\n",
       "    }\n",
       "</style>\n",
       "<table border=\"1\" class=\"dataframe\">\n",
       "  <thead>\n",
       "    <tr style=\"text-align: right;\">\n",
       "      <th></th>\n",
       "      <th>component_0</th>\n",
       "      <th>component_1</th>\n",
       "      <th>component_2</th>\n",
       "      <th>component_3</th>\n",
       "    </tr>\n",
       "    <tr>\n",
       "      <th>track</th>\n",
       "      <th></th>\n",
       "      <th></th>\n",
       "      <th></th>\n",
       "      <th></th>\n",
       "    </tr>\n",
       "  </thead>\n",
       "  <tbody>\n",
       "    <tr>\n",
       "      <th>Things Done Changed</th>\n",
       "      <td>0.12062</td>\n",
       "      <td>0.03019</td>\n",
       "      <td>0.00000</td>\n",
       "      <td>0.00000</td>\n",
       "    </tr>\n",
       "    <tr>\n",
       "      <th>Gimme the Loot</th>\n",
       "      <td>0.03436</td>\n",
       "      <td>0.06133</td>\n",
       "      <td>0.06835</td>\n",
       "      <td>0.07875</td>\n",
       "    </tr>\n",
       "    <tr>\n",
       "      <th>Machine Gun Funk</th>\n",
       "      <td>0.01735</td>\n",
       "      <td>0.17491</td>\n",
       "      <td>0.00000</td>\n",
       "      <td>0.00000</td>\n",
       "    </tr>\n",
       "    <tr>\n",
       "      <th>Warning</th>\n",
       "      <td>0.12378</td>\n",
       "      <td>0.09159</td>\n",
       "      <td>0.00000</td>\n",
       "      <td>0.02483</td>\n",
       "    </tr>\n",
       "    <tr>\n",
       "      <th>Ready to Die</th>\n",
       "      <td>0.00000</td>\n",
       "      <td>0.47343</td>\n",
       "      <td>0.00000</td>\n",
       "      <td>0.00000</td>\n",
       "    </tr>\n",
       "    <tr>\n",
       "      <th>One More Chance</th>\n",
       "      <td>0.06370</td>\n",
       "      <td>0.09464</td>\n",
       "      <td>0.30287</td>\n",
       "      <td>0.00000</td>\n",
       "    </tr>\n",
       "    <tr>\n",
       "      <th>The What</th>\n",
       "      <td>0.04930</td>\n",
       "      <td>0.12284</td>\n",
       "      <td>0.24695</td>\n",
       "      <td>0.01771</td>\n",
       "    </tr>\n",
       "    <tr>\n",
       "      <th>Juicy</th>\n",
       "      <td>0.23908</td>\n",
       "      <td>0.00000</td>\n",
       "      <td>0.00000</td>\n",
       "      <td>0.02807</td>\n",
       "    </tr>\n",
       "    <tr>\n",
       "      <th>Everyday Struggle</th>\n",
       "      <td>0.10227</td>\n",
       "      <td>0.00000</td>\n",
       "      <td>0.13552</td>\n",
       "      <td>0.00000</td>\n",
       "    </tr>\n",
       "    <tr>\n",
       "      <th>Me &amp; My Bitch</th>\n",
       "      <td>0.00000</td>\n",
       "      <td>0.00000</td>\n",
       "      <td>0.55729</td>\n",
       "      <td>0.00000</td>\n",
       "    </tr>\n",
       "    <tr>\n",
       "      <th>Big Poppa</th>\n",
       "      <td>0.18565</td>\n",
       "      <td>0.01609</td>\n",
       "      <td>0.04692</td>\n",
       "      <td>0.02080</td>\n",
       "    </tr>\n",
       "    <tr>\n",
       "      <th>Respect</th>\n",
       "      <td>0.09790</td>\n",
       "      <td>0.00937</td>\n",
       "      <td>0.03215</td>\n",
       "      <td>0.00000</td>\n",
       "    </tr>\n",
       "    <tr>\n",
       "      <th>Friend of Mine</th>\n",
       "      <td>0.00000</td>\n",
       "      <td>0.00000</td>\n",
       "      <td>0.49953</td>\n",
       "      <td>0.01922</td>\n",
       "    </tr>\n",
       "    <tr>\n",
       "      <th>Unbelievable</th>\n",
       "      <td>0.01761</td>\n",
       "      <td>0.19799</td>\n",
       "      <td>0.00000</td>\n",
       "      <td>0.00000</td>\n",
       "    </tr>\n",
       "    <tr>\n",
       "      <th>Suicidal Thoughts</th>\n",
       "      <td>0.21674</td>\n",
       "      <td>0.00000</td>\n",
       "      <td>0.05693</td>\n",
       "      <td>0.00000</td>\n",
       "    </tr>\n",
       "    <tr>\n",
       "      <th>Who Shot Ya?</th>\n",
       "      <td>0.00000</td>\n",
       "      <td>0.50858</td>\n",
       "      <td>0.00000</td>\n",
       "      <td>0.01623</td>\n",
       "    </tr>\n",
       "    <tr>\n",
       "      <th>Just Playing (Dreams)</th>\n",
       "      <td>0.00000</td>\n",
       "      <td>0.00000</td>\n",
       "      <td>0.29487</td>\n",
       "      <td>0.00000</td>\n",
       "    </tr>\n",
       "    <tr>\n",
       "      <th>Somebody's Gotta Die</th>\n",
       "      <td>0.11866</td>\n",
       "      <td>0.09484</td>\n",
       "      <td>0.10744</td>\n",
       "      <td>0.00974</td>\n",
       "    </tr>\n",
       "    <tr>\n",
       "      <th>Hypnotize</th>\n",
       "      <td>0.12221</td>\n",
       "      <td>0.11745</td>\n",
       "      <td>0.00000</td>\n",
       "      <td>0.00000</td>\n",
       "    </tr>\n",
       "    <tr>\n",
       "      <th>Kick in the Door</th>\n",
       "      <td>0.17752</td>\n",
       "      <td>0.06477</td>\n",
       "      <td>0.03334</td>\n",
       "      <td>0.03470</td>\n",
       "    </tr>\n",
       "    <tr>\n",
       "      <th>Fuck You Tonight</th>\n",
       "      <td>0.01114</td>\n",
       "      <td>0.00000</td>\n",
       "      <td>0.22454</td>\n",
       "      <td>0.02850</td>\n",
       "    </tr>\n",
       "    <tr>\n",
       "      <th>Last Day</th>\n",
       "      <td>0.17658</td>\n",
       "      <td>0.00000</td>\n",
       "      <td>0.00000</td>\n",
       "      <td>0.08380</td>\n",
       "    </tr>\n",
       "    <tr>\n",
       "      <th>I Love the Dough</th>\n",
       "      <td>0.20862</td>\n",
       "      <td>0.01566</td>\n",
       "      <td>0.00000</td>\n",
       "      <td>0.00000</td>\n",
       "    </tr>\n",
       "    <tr>\n",
       "      <th>What's Beef?</th>\n",
       "      <td>0.00000</td>\n",
       "      <td>0.00000</td>\n",
       "      <td>0.00000</td>\n",
       "      <td>0.81776</td>\n",
       "    </tr>\n",
       "    <tr>\n",
       "      <th>Mo' Money Mo' Problems</th>\n",
       "      <td>0.23012</td>\n",
       "      <td>0.01001</td>\n",
       "      <td>0.00000</td>\n",
       "      <td>0.00000</td>\n",
       "    </tr>\n",
       "    <tr>\n",
       "      <th>Niggas Bleed</th>\n",
       "      <td>0.12965</td>\n",
       "      <td>0.07127</td>\n",
       "      <td>0.01169</td>\n",
       "      <td>0.10927</td>\n",
       "    </tr>\n",
       "    <tr>\n",
       "      <th>I Got a Story to Tell</th>\n",
       "      <td>0.06274</td>\n",
       "      <td>0.00000</td>\n",
       "      <td>0.39048</td>\n",
       "      <td>0.00000</td>\n",
       "    </tr>\n",
       "    <tr>\n",
       "      <th>Notorious Thugs</th>\n",
       "      <td>0.02985</td>\n",
       "      <td>0.25415</td>\n",
       "      <td>0.00000</td>\n",
       "      <td>0.00025</td>\n",
       "    </tr>\n",
       "    <tr>\n",
       "      <th>Miss U</th>\n",
       "      <td>0.12259</td>\n",
       "      <td>0.00000</td>\n",
       "      <td>0.01745</td>\n",
       "      <td>0.00000</td>\n",
       "    </tr>\n",
       "    <tr>\n",
       "      <th>Another</th>\n",
       "      <td>0.00000</td>\n",
       "      <td>0.00000</td>\n",
       "      <td>0.48585</td>\n",
       "      <td>0.00256</td>\n",
       "    </tr>\n",
       "    <tr>\n",
       "      <th>Going Back to Cali</th>\n",
       "      <td>0.06813</td>\n",
       "      <td>0.01435</td>\n",
       "      <td>0.00689</td>\n",
       "      <td>0.00063</td>\n",
       "    </tr>\n",
       "    <tr>\n",
       "      <th>Ten Crack Commandments</th>\n",
       "      <td>0.20968</td>\n",
       "      <td>0.04124</td>\n",
       "      <td>0.00000</td>\n",
       "      <td>0.00000</td>\n",
       "    </tr>\n",
       "    <tr>\n",
       "      <th>Playa Hater</th>\n",
       "      <td>0.06185</td>\n",
       "      <td>0.00147</td>\n",
       "      <td>0.00783</td>\n",
       "      <td>0.01404</td>\n",
       "    </tr>\n",
       "    <tr>\n",
       "      <th>Nasty Boy</th>\n",
       "      <td>0.00000</td>\n",
       "      <td>0.07137</td>\n",
       "      <td>0.26571</td>\n",
       "      <td>0.00000</td>\n",
       "    </tr>\n",
       "    <tr>\n",
       "      <th>Sky's The Limit</th>\n",
       "      <td>0.17149</td>\n",
       "      <td>0.00000</td>\n",
       "      <td>0.00000</td>\n",
       "      <td>0.00000</td>\n",
       "    </tr>\n",
       "    <tr>\n",
       "      <th>The World Is Filled...</th>\n",
       "      <td>0.07380</td>\n",
       "      <td>0.02630</td>\n",
       "      <td>0.33373</td>\n",
       "      <td>0.01083</td>\n",
       "    </tr>\n",
       "    <tr>\n",
       "      <th>My Downfall</th>\n",
       "      <td>0.02927</td>\n",
       "      <td>0.12557</td>\n",
       "      <td>0.00600</td>\n",
       "      <td>0.01181</td>\n",
       "    </tr>\n",
       "    <tr>\n",
       "      <th>Long Kiss Goodnight</th>\n",
       "      <td>0.12938</td>\n",
       "      <td>0.09880</td>\n",
       "      <td>0.16110</td>\n",
       "      <td>0.00000</td>\n",
       "    </tr>\n",
       "    <tr>\n",
       "      <th>You're Nobody (Til Somebody Kills You)</th>\n",
       "      <td>0.20795</td>\n",
       "      <td>0.00795</td>\n",
       "      <td>0.00000</td>\n",
       "      <td>0.00000</td>\n",
       "    </tr>\n",
       "    <tr>\n",
       "      <th>Notorious B.I.G.</th>\n",
       "      <td>0.11060</td>\n",
       "      <td>0.05708</td>\n",
       "      <td>0.06482</td>\n",
       "      <td>0.05095</td>\n",
       "    </tr>\n",
       "    <tr>\n",
       "      <th>Dead Wrong</th>\n",
       "      <td>0.16701</td>\n",
       "      <td>0.00000</td>\n",
       "      <td>0.00000</td>\n",
       "      <td>0.00000</td>\n",
       "    </tr>\n",
       "    <tr>\n",
       "      <th>Hope You Niggas Sleep</th>\n",
       "      <td>0.13990</td>\n",
       "      <td>0.07731</td>\n",
       "      <td>0.10465</td>\n",
       "      <td>0.02472</td>\n",
       "    </tr>\n",
       "    <tr>\n",
       "      <th>Dangerous MC's</th>\n",
       "      <td>0.00000</td>\n",
       "      <td>0.12340</td>\n",
       "      <td>0.20304</td>\n",
       "      <td>0.07332</td>\n",
       "    </tr>\n",
       "    <tr>\n",
       "      <th>Biggie</th>\n",
       "      <td>0.22841</td>\n",
       "      <td>0.02365</td>\n",
       "      <td>0.00003</td>\n",
       "      <td>0.04087</td>\n",
       "    </tr>\n",
       "    <tr>\n",
       "      <th>Niggas</th>\n",
       "      <td>0.05273</td>\n",
       "      <td>0.07626</td>\n",
       "      <td>0.07642</td>\n",
       "      <td>0.01037</td>\n",
       "    </tr>\n",
       "    <tr>\n",
       "      <th>Big Booty Hoes</th>\n",
       "      <td>0.00000</td>\n",
       "      <td>0.00000</td>\n",
       "      <td>0.51019</td>\n",
       "      <td>0.00000</td>\n",
       "    </tr>\n",
       "    <tr>\n",
       "      <th>Would You Die for Me</th>\n",
       "      <td>0.13376</td>\n",
       "      <td>0.01387</td>\n",
       "      <td>0.18690</td>\n",
       "      <td>0.00000</td>\n",
       "    </tr>\n",
       "    <tr>\n",
       "      <th>Come On</th>\n",
       "      <td>0.00000</td>\n",
       "      <td>0.58683</td>\n",
       "      <td>0.00000</td>\n",
       "      <td>0.00000</td>\n",
       "    </tr>\n",
       "    <tr>\n",
       "      <th>Rap Phenomenon</th>\n",
       "      <td>0.13618</td>\n",
       "      <td>0.13797</td>\n",
       "      <td>0.03196</td>\n",
       "      <td>0.02597</td>\n",
       "    </tr>\n",
       "    <tr>\n",
       "      <th>Let Me Get Down</th>\n",
       "      <td>0.05786</td>\n",
       "      <td>0.14213</td>\n",
       "      <td>0.15369</td>\n",
       "      <td>0.00000</td>\n",
       "    </tr>\n",
       "  </tbody>\n",
       "</table>\n",
       "</div>"
      ],
      "text/plain": [
       "                                        component_0  component_1  component_2  \\\n",
       "track                                                                           \n",
       "Things Done Changed                         0.12062      0.03019      0.00000   \n",
       "Gimme the Loot                              0.03436      0.06133      0.06835   \n",
       "Machine Gun Funk                            0.01735      0.17491      0.00000   \n",
       "Warning                                     0.12378      0.09159      0.00000   \n",
       "Ready to Die                                0.00000      0.47343      0.00000   \n",
       "One More Chance                             0.06370      0.09464      0.30287   \n",
       "The What                                    0.04930      0.12284      0.24695   \n",
       "Juicy                                       0.23908      0.00000      0.00000   \n",
       "Everyday Struggle                           0.10227      0.00000      0.13552   \n",
       "Me & My Bitch                               0.00000      0.00000      0.55729   \n",
       "Big Poppa                                   0.18565      0.01609      0.04692   \n",
       "Respect                                     0.09790      0.00937      0.03215   \n",
       "Friend of Mine                              0.00000      0.00000      0.49953   \n",
       "Unbelievable                                0.01761      0.19799      0.00000   \n",
       "Suicidal Thoughts                           0.21674      0.00000      0.05693   \n",
       "Who Shot Ya?                                0.00000      0.50858      0.00000   \n",
       "Just Playing (Dreams)                       0.00000      0.00000      0.29487   \n",
       "Somebody's Gotta Die                        0.11866      0.09484      0.10744   \n",
       "Hypnotize                                   0.12221      0.11745      0.00000   \n",
       "Kick in the Door                            0.17752      0.06477      0.03334   \n",
       "Fuck You Tonight                            0.01114      0.00000      0.22454   \n",
       "Last Day                                    0.17658      0.00000      0.00000   \n",
       "I Love the Dough                            0.20862      0.01566      0.00000   \n",
       "What's Beef?                                0.00000      0.00000      0.00000   \n",
       "Mo' Money Mo' Problems                      0.23012      0.01001      0.00000   \n",
       "Niggas Bleed                                0.12965      0.07127      0.01169   \n",
       "I Got a Story to Tell                       0.06274      0.00000      0.39048   \n",
       "Notorious Thugs                             0.02985      0.25415      0.00000   \n",
       "Miss U                                      0.12259      0.00000      0.01745   \n",
       "Another                                     0.00000      0.00000      0.48585   \n",
       "Going Back to Cali                          0.06813      0.01435      0.00689   \n",
       "Ten Crack Commandments                      0.20968      0.04124      0.00000   \n",
       "Playa Hater                                 0.06185      0.00147      0.00783   \n",
       "Nasty Boy                                   0.00000      0.07137      0.26571   \n",
       "Sky's The Limit                             0.17149      0.00000      0.00000   \n",
       "The World Is Filled...                      0.07380      0.02630      0.33373   \n",
       "My Downfall                                 0.02927      0.12557      0.00600   \n",
       "Long Kiss Goodnight                         0.12938      0.09880      0.16110   \n",
       "You're Nobody (Til Somebody Kills You)      0.20795      0.00795      0.00000   \n",
       "Notorious B.I.G.                            0.11060      0.05708      0.06482   \n",
       "Dead Wrong                                  0.16701      0.00000      0.00000   \n",
       "Hope You Niggas Sleep                       0.13990      0.07731      0.10465   \n",
       "Dangerous MC's                              0.00000      0.12340      0.20304   \n",
       "Biggie                                      0.22841      0.02365      0.00003   \n",
       "Niggas                                      0.05273      0.07626      0.07642   \n",
       "Big Booty Hoes                              0.00000      0.00000      0.51019   \n",
       "Would You Die for Me                        0.13376      0.01387      0.18690   \n",
       "Come On                                     0.00000      0.58683      0.00000   \n",
       "Rap Phenomenon                              0.13618      0.13797      0.03196   \n",
       "Let Me Get Down                             0.05786      0.14213      0.15369   \n",
       "\n",
       "                                        component_3  \n",
       "track                                                \n",
       "Things Done Changed                         0.00000  \n",
       "Gimme the Loot                              0.07875  \n",
       "Machine Gun Funk                            0.00000  \n",
       "Warning                                     0.02483  \n",
       "Ready to Die                                0.00000  \n",
       "One More Chance                             0.00000  \n",
       "The What                                    0.01771  \n",
       "Juicy                                       0.02807  \n",
       "Everyday Struggle                           0.00000  \n",
       "Me & My Bitch                               0.00000  \n",
       "Big Poppa                                   0.02080  \n",
       "Respect                                     0.00000  \n",
       "Friend of Mine                              0.01922  \n",
       "Unbelievable                                0.00000  \n",
       "Suicidal Thoughts                           0.00000  \n",
       "Who Shot Ya?                                0.01623  \n",
       "Just Playing (Dreams)                       0.00000  \n",
       "Somebody's Gotta Die                        0.00974  \n",
       "Hypnotize                                   0.00000  \n",
       "Kick in the Door                            0.03470  \n",
       "Fuck You Tonight                            0.02850  \n",
       "Last Day                                    0.08380  \n",
       "I Love the Dough                            0.00000  \n",
       "What's Beef?                                0.81776  \n",
       "Mo' Money Mo' Problems                      0.00000  \n",
       "Niggas Bleed                                0.10927  \n",
       "I Got a Story to Tell                       0.00000  \n",
       "Notorious Thugs                             0.00025  \n",
       "Miss U                                      0.00000  \n",
       "Another                                     0.00256  \n",
       "Going Back to Cali                          0.00063  \n",
       "Ten Crack Commandments                      0.00000  \n",
       "Playa Hater                                 0.01404  \n",
       "Nasty Boy                                   0.00000  \n",
       "Sky's The Limit                             0.00000  \n",
       "The World Is Filled...                      0.01083  \n",
       "My Downfall                                 0.01181  \n",
       "Long Kiss Goodnight                         0.00000  \n",
       "You're Nobody (Til Somebody Kills You)      0.00000  \n",
       "Notorious B.I.G.                            0.05095  \n",
       "Dead Wrong                                  0.00000  \n",
       "Hope You Niggas Sleep                       0.02472  \n",
       "Dangerous MC's                              0.07332  \n",
       "Biggie                                      0.04087  \n",
       "Niggas                                      0.01037  \n",
       "Big Booty Hoes                              0.00000  \n",
       "Would You Die for Me                        0.00000  \n",
       "Come On                                     0.00000  \n",
       "Rap Phenomenon                              0.02597  \n",
       "Let Me Get Down                             0.00000  "
      ]
     },
     "execution_count": 265,
     "metadata": {},
     "output_type": "execute_result"
    }
   ],
   "source": [
    "doc_top = pd.DataFrame(doc_topic.round(5),\n",
    "             index = df_biggie['track'],\n",
    "             columns = [\"component_0\",\"component_1\", \"component_2\", \"component_3\"])\n",
    "doc_top.head(50)"
   ]
  },
  {
   "cell_type": "code",
   "execution_count": 266,
   "metadata": {},
   "outputs": [
    {
     "data": {
      "text/plain": [
       "component_0       The Reason\n",
       "component_1          Come On\n",
       "component_2    Me & My Bitch\n",
       "component_3             Beef\n",
       "dtype: object"
      ]
     },
     "execution_count": 266,
     "metadata": {},
     "output_type": "execute_result"
    }
   ],
   "source": [
    "doc_top.idxmax()"
   ]
  },
  {
   "cell_type": "code",
   "execution_count": null,
   "metadata": {},
   "outputs": [],
   "source": []
  },
  {
   "cell_type": "code",
   "execution_count": null,
   "metadata": {},
   "outputs": [],
   "source": []
  },
  {
   "cell_type": "code",
   "execution_count": 119,
   "metadata": {},
   "outputs": [],
   "source": [
    "sammy = {'username': 'sammy-shark', 'online': True, 'followers': 987}\n",
    "jesse = {'username': 'JOctopus', 'online': False, 'points': 723}"
   ]
  },
  {
   "cell_type": "code",
   "execution_count": 120,
   "metadata": {},
   "outputs": [
    {
     "name": "stdout",
     "output_type": "stream",
     "text": [
      "sammy-shark JOctopus\n",
      "True False\n"
     ]
    }
   ],
   "source": [
    "for common_key in sammy.keys() & jesse.keys():\n",
    "    print(sammy[common_key], jesse[common_key])"
   ]
  },
  {
   "cell_type": "code",
   "execution_count": 121,
   "metadata": {},
   "outputs": [
    {
     "name": "stdout",
     "output_type": "stream",
     "text": [
      "dict_values(['sammy-shark', True, 987])\n"
     ]
    }
   ],
   "source": [
    "print(sammy.values())\n"
   ]
  },
  {
   "cell_type": "code",
   "execution_count": null,
   "metadata": {},
   "outputs": [],
   "source": []
  },
  {
   "cell_type": "code",
   "execution_count": null,
   "metadata": {},
   "outputs": [],
   "source": []
  },
  {
   "cell_type": "code",
   "execution_count": null,
   "metadata": {},
   "outputs": [],
   "source": []
  },
  {
   "cell_type": "code",
   "execution_count": null,
   "metadata": {},
   "outputs": [],
   "source": []
  }
 ],
 "metadata": {
  "kernelspec": {
   "display_name": "Python 3",
   "language": "python",
   "name": "python3"
  },
  "language_info": {
   "codemirror_mode": {
    "name": "ipython",
    "version": 3
   },
   "file_extension": ".py",
   "mimetype": "text/x-python",
   "name": "python",
   "nbconvert_exporter": "python",
   "pygments_lexer": "ipython3",
   "version": "3.6.8"
  },
  "varInspector": {
   "cols": {
    "lenName": 16,
    "lenType": 16,
    "lenVar": 40
   },
   "kernels_config": {
    "python": {
     "delete_cmd_postfix": "",
     "delete_cmd_prefix": "del ",
     "library": "var_list.py",
     "varRefreshCmd": "print(var_dic_list())"
    },
    "r": {
     "delete_cmd_postfix": ") ",
     "delete_cmd_prefix": "rm(",
     "library": "var_list.r",
     "varRefreshCmd": "cat(var_dic_list()) "
    }
   },
   "types_to_exclude": [
    "module",
    "function",
    "builtin_function_or_method",
    "instance",
    "_Feature"
   ],
   "window_display": false
  }
 },
 "nbformat": 4,
 "nbformat_minor": 2
}
